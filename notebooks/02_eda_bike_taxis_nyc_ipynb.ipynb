{
  "nbformat": 4,
  "nbformat_minor": 0,
  "metadata": {
    "colab": {
      "name": "02_eda_bike_taxis_nyc.ipynb.ipynb",
      "provenance": [],
      "collapsed_sections": [],
      "mount_file_id": "1WMuDfyrPRgiH__6e4ATMcGjW39Kfa4vB",
      "authorship_tag": "ABX9TyNZ4qifdlqzIswVmkRSWqky",
      "include_colab_link": true
    },
    "kernelspec": {
      "name": "python3",
      "display_name": "Python 3"
    }
  },
  "cells": [
    {
      "cell_type": "markdown",
      "metadata": {
        "id": "view-in-github",
        "colab_type": "text"
      },
      "source": [
        "<a href=\"https://colab.research.google.com/github/ralsouza/study_case_eda_bike_taxi_nyc/blob/master/notebooks/02_eda_bike_taxis_nyc_ipynb.ipynb\" target=\"_parent\"><img src=\"https://colab.research.google.com/assets/colab-badge.svg\" alt=\"Open In Colab\"/></a>"
      ]
    },
    {
      "cell_type": "code",
      "metadata": {
        "id": "saiviW-7lyBk",
        "colab_type": "code",
        "colab": {}
      },
      "source": [
        "import pandas as pd\n",
        "import numpy as np\n",
        "import matplotlib.pyplot as plt\n",
        "%matplotlib inline"
      ],
      "execution_count": 0,
      "outputs": []
    },
    {
      "cell_type": "markdown",
      "metadata": {
        "id": "fR8TNQ_ymLkE",
        "colab_type": "text"
      },
      "source": [
        "# Load saved data"
      ]
    },
    {
      "cell_type": "code",
      "metadata": {
        "id": "amqmmXuimN0k",
        "colab_type": "code",
        "colab": {}
      },
      "source": [
        "data = pd.read_csv('/content/drive/My Drive/Colab Notebooks/04_study_case_eda_bike_taxi_nyc/data/taxis_bikes_nycity_changed_v1.csv')"
      ],
      "execution_count": 0,
      "outputs": []
    },
    {
      "cell_type": "markdown",
      "metadata": {
        "id": "E1PPdxEnmlYH",
        "colab_type": "text"
      },
      "source": [
        "# Check loaded data"
      ]
    },
    {
      "cell_type": "code",
      "metadata": {
        "id": "7fo7qcmamnS6",
        "colab_type": "code",
        "outputId": "78169740-dba5-423e-8dac-00cb9c25c3ad",
        "colab": {
          "base_uri": "https://localhost:8080/",
          "height": 204
        }
      },
      "source": [
        "data.head()"
      ],
      "execution_count": 3,
      "outputs": [
        {
          "output_type": "execute_result",
          "data": {
            "text/html": [
              "<div>\n",
              "<style scoped>\n",
              "    .dataframe tbody tr th:only-of-type {\n",
              "        vertical-align: middle;\n",
              "    }\n",
              "\n",
              "    .dataframe tbody tr th {\n",
              "        vertical-align: top;\n",
              "    }\n",
              "\n",
              "    .dataframe thead th {\n",
              "        text-align: right;\n",
              "    }\n",
              "</style>\n",
              "<table border=\"1\" class=\"dataframe\">\n",
              "  <thead>\n",
              "    <tr style=\"text-align: right;\">\n",
              "      <th></th>\n",
              "      <th>Data</th>\n",
              "      <th>Distancia</th>\n",
              "      <th>Tempo</th>\n",
              "    </tr>\n",
              "  </thead>\n",
              "  <tbody>\n",
              "    <tr>\n",
              "      <th>0</th>\n",
              "      <td>2015-08-02</td>\n",
              "      <td>1.70</td>\n",
              "      <td>NaN</td>\n",
              "    </tr>\n",
              "    <tr>\n",
              "      <th>1</th>\n",
              "      <td>2015-08-03</td>\n",
              "      <td>1.40</td>\n",
              "      <td>NaN</td>\n",
              "    </tr>\n",
              "    <tr>\n",
              "      <th>2</th>\n",
              "      <td>2015-08-04</td>\n",
              "      <td>2.10</td>\n",
              "      <td>NaN</td>\n",
              "    </tr>\n",
              "    <tr>\n",
              "      <th>3</th>\n",
              "      <td>2015-08-06</td>\n",
              "      <td>2.38</td>\n",
              "      <td>NaN</td>\n",
              "    </tr>\n",
              "    <tr>\n",
              "      <th>4</th>\n",
              "      <td>2015-08-07</td>\n",
              "      <td>2.30</td>\n",
              "      <td>NaN</td>\n",
              "    </tr>\n",
              "  </tbody>\n",
              "</table>\n",
              "</div>"
            ],
            "text/plain": [
              "         Data  Distancia Tempo\n",
              "0  2015-08-02       1.70   NaN\n",
              "1  2015-08-03       1.40   NaN\n",
              "2  2015-08-04       2.10   NaN\n",
              "3  2015-08-06       2.38   NaN\n",
              "4  2015-08-07       2.30   NaN"
            ]
          },
          "metadata": {
            "tags": []
          },
          "execution_count": 3
        }
      ]
    },
    {
      "cell_type": "markdown",
      "metadata": {
        "id": "L00GP284mwUT",
        "colab_type": "text"
      },
      "source": [
        "the setting index is gone!!!"
      ]
    },
    {
      "cell_type": "code",
      "metadata": {
        "id": "dTuXDJaOmyzf",
        "colab_type": "code",
        "outputId": "fd981196-17e8-4943-cd98-51f876641b1c",
        "colab": {
          "base_uri": "https://localhost:8080/",
          "height": 85
        }
      },
      "source": [
        "data.dtypes"
      ],
      "execution_count": 4,
      "outputs": [
        {
          "output_type": "execute_result",
          "data": {
            "text/plain": [
              "Data          object\n",
              "Distancia    float64\n",
              "Tempo         object\n",
              "dtype: object"
            ]
          },
          "metadata": {
            "tags": []
          },
          "execution_count": 4
        }
      ]
    },
    {
      "cell_type": "markdown",
      "metadata": {
        "id": "29eLr0O_m_xJ",
        "colab_type": "text"
      },
      "source": [
        "The column Data returned as `object` data type."
      ]
    },
    {
      "cell_type": "markdown",
      "metadata": {
        "id": "gz7ZXOd4nunR",
        "colab_type": "text"
      },
      "source": [
        "# Load saved data again and doing some transformations\n",
        "We will use the command to convert the date column to date type.\n"
      ]
    },
    {
      "cell_type": "code",
      "metadata": {
        "id": "xQjA7rXanwU2",
        "colab_type": "code",
        "colab": {}
      },
      "source": [
        "data = pd.read_csv('/content/drive/My Drive/Colab Notebooks/04_study_case_eda_bike_taxi_nyc/data/taxis_bikes_nycity_changed_v1.csv'\n",
        "                  ,parse_dates=['Data'])"
      ],
      "execution_count": 0,
      "outputs": []
    },
    {
      "cell_type": "code",
      "metadata": {
        "id": "lpO-mEHxoMcV",
        "colab_type": "code",
        "outputId": "b2c97c80-825d-4c70-f0ac-a2e91ff01e6a",
        "colab": {
          "base_uri": "https://localhost:8080/",
          "height": 204
        }
      },
      "source": [
        "data.head()"
      ],
      "execution_count": 6,
      "outputs": [
        {
          "output_type": "execute_result",
          "data": {
            "text/html": [
              "<div>\n",
              "<style scoped>\n",
              "    .dataframe tbody tr th:only-of-type {\n",
              "        vertical-align: middle;\n",
              "    }\n",
              "\n",
              "    .dataframe tbody tr th {\n",
              "        vertical-align: top;\n",
              "    }\n",
              "\n",
              "    .dataframe thead th {\n",
              "        text-align: right;\n",
              "    }\n",
              "</style>\n",
              "<table border=\"1\" class=\"dataframe\">\n",
              "  <thead>\n",
              "    <tr style=\"text-align: right;\">\n",
              "      <th></th>\n",
              "      <th>Data</th>\n",
              "      <th>Distancia</th>\n",
              "      <th>Tempo</th>\n",
              "    </tr>\n",
              "  </thead>\n",
              "  <tbody>\n",
              "    <tr>\n",
              "      <th>0</th>\n",
              "      <td>2015-08-02</td>\n",
              "      <td>1.70</td>\n",
              "      <td>NaN</td>\n",
              "    </tr>\n",
              "    <tr>\n",
              "      <th>1</th>\n",
              "      <td>2015-08-03</td>\n",
              "      <td>1.40</td>\n",
              "      <td>NaN</td>\n",
              "    </tr>\n",
              "    <tr>\n",
              "      <th>2</th>\n",
              "      <td>2015-08-04</td>\n",
              "      <td>2.10</td>\n",
              "      <td>NaN</td>\n",
              "    </tr>\n",
              "    <tr>\n",
              "      <th>3</th>\n",
              "      <td>2015-08-06</td>\n",
              "      <td>2.38</td>\n",
              "      <td>NaN</td>\n",
              "    </tr>\n",
              "    <tr>\n",
              "      <th>4</th>\n",
              "      <td>2015-08-07</td>\n",
              "      <td>2.30</td>\n",
              "      <td>NaN</td>\n",
              "    </tr>\n",
              "  </tbody>\n",
              "</table>\n",
              "</div>"
            ],
            "text/plain": [
              "        Data  Distancia Tempo\n",
              "0 2015-08-02       1.70   NaN\n",
              "1 2015-08-03       1.40   NaN\n",
              "2 2015-08-04       2.10   NaN\n",
              "3 2015-08-06       2.38   NaN\n",
              "4 2015-08-07       2.30   NaN"
            ]
          },
          "metadata": {
            "tags": []
          },
          "execution_count": 6
        }
      ]
    },
    {
      "cell_type": "code",
      "metadata": {
        "id": "RA2o7RTYoTjF",
        "colab_type": "code",
        "outputId": "ecfe86cc-4fb4-4bf7-88df-1877318b9ecb",
        "colab": {
          "base_uri": "https://localhost:8080/",
          "height": 85
        }
      },
      "source": [
        "data.dtypes # Now yes"
      ],
      "execution_count": 7,
      "outputs": [
        {
          "output_type": "execute_result",
          "data": {
            "text/plain": [
              "Data         datetime64[ns]\n",
              "Distancia           float64\n",
              "Tempo                object\n",
              "dtype: object"
            ]
          },
          "metadata": {
            "tags": []
          },
          "execution_count": 7
        }
      ]
    },
    {
      "cell_type": "code",
      "metadata": {
        "id": "jlfHCJk4o_TG",
        "colab_type": "code",
        "colab": {}
      },
      "source": [
        "# Changing the column names\n",
        "data.columns = ['Date','Distance','Time']"
      ],
      "execution_count": 0,
      "outputs": []
    },
    {
      "cell_type": "code",
      "metadata": {
        "id": "OnjH01oXpU-M",
        "colab_type": "code",
        "outputId": "cb123615-ea08-4a69-99bd-0ef10820ddfe",
        "colab": {
          "base_uri": "https://localhost:8080/",
          "height": 204
        }
      },
      "source": [
        "# Check the data\n",
        "data.head()"
      ],
      "execution_count": 9,
      "outputs": [
        {
          "output_type": "execute_result",
          "data": {
            "text/html": [
              "<div>\n",
              "<style scoped>\n",
              "    .dataframe tbody tr th:only-of-type {\n",
              "        vertical-align: middle;\n",
              "    }\n",
              "\n",
              "    .dataframe tbody tr th {\n",
              "        vertical-align: top;\n",
              "    }\n",
              "\n",
              "    .dataframe thead th {\n",
              "        text-align: right;\n",
              "    }\n",
              "</style>\n",
              "<table border=\"1\" class=\"dataframe\">\n",
              "  <thead>\n",
              "    <tr style=\"text-align: right;\">\n",
              "      <th></th>\n",
              "      <th>Date</th>\n",
              "      <th>Distance</th>\n",
              "      <th>Time</th>\n",
              "    </tr>\n",
              "  </thead>\n",
              "  <tbody>\n",
              "    <tr>\n",
              "      <th>0</th>\n",
              "      <td>2015-08-02</td>\n",
              "      <td>1.70</td>\n",
              "      <td>NaN</td>\n",
              "    </tr>\n",
              "    <tr>\n",
              "      <th>1</th>\n",
              "      <td>2015-08-03</td>\n",
              "      <td>1.40</td>\n",
              "      <td>NaN</td>\n",
              "    </tr>\n",
              "    <tr>\n",
              "      <th>2</th>\n",
              "      <td>2015-08-04</td>\n",
              "      <td>2.10</td>\n",
              "      <td>NaN</td>\n",
              "    </tr>\n",
              "    <tr>\n",
              "      <th>3</th>\n",
              "      <td>2015-08-06</td>\n",
              "      <td>2.38</td>\n",
              "      <td>NaN</td>\n",
              "    </tr>\n",
              "    <tr>\n",
              "      <th>4</th>\n",
              "      <td>2015-08-07</td>\n",
              "      <td>2.30</td>\n",
              "      <td>NaN</td>\n",
              "    </tr>\n",
              "  </tbody>\n",
              "</table>\n",
              "</div>"
            ],
            "text/plain": [
              "        Date  Distance Time\n",
              "0 2015-08-02      1.70  NaN\n",
              "1 2015-08-03      1.40  NaN\n",
              "2 2015-08-04      2.10  NaN\n",
              "3 2015-08-06      2.38  NaN\n",
              "4 2015-08-07      2.30  NaN"
            ]
          },
          "metadata": {
            "tags": []
          },
          "execution_count": 9
        }
      ]
    },
    {
      "cell_type": "code",
      "metadata": {
        "id": "x3v9vKonoU3_",
        "colab_type": "code",
        "colab": {}
      },
      "source": [
        "# Setting the Date column as index again\n",
        "data.set_index('Date', inplace=True)"
      ],
      "execution_count": 0,
      "outputs": []
    },
    {
      "cell_type": "code",
      "metadata": {
        "id": "obpK0tbzo8eQ",
        "colab_type": "code",
        "outputId": "b417faa9-e946-4621-d2dc-c335e6ab26ec",
        "colab": {
          "base_uri": "https://localhost:8080/",
          "height": 390
        }
      },
      "source": [
        "# Check modified data\n",
        "data.head(10)"
      ],
      "execution_count": 11,
      "outputs": [
        {
          "output_type": "execute_result",
          "data": {
            "text/html": [
              "<div>\n",
              "<style scoped>\n",
              "    .dataframe tbody tr th:only-of-type {\n",
              "        vertical-align: middle;\n",
              "    }\n",
              "\n",
              "    .dataframe tbody tr th {\n",
              "        vertical-align: top;\n",
              "    }\n",
              "\n",
              "    .dataframe thead th {\n",
              "        text-align: right;\n",
              "    }\n",
              "</style>\n",
              "<table border=\"1\" class=\"dataframe\">\n",
              "  <thead>\n",
              "    <tr style=\"text-align: right;\">\n",
              "      <th></th>\n",
              "      <th>Distance</th>\n",
              "      <th>Time</th>\n",
              "    </tr>\n",
              "    <tr>\n",
              "      <th>Date</th>\n",
              "      <th></th>\n",
              "      <th></th>\n",
              "    </tr>\n",
              "  </thead>\n",
              "  <tbody>\n",
              "    <tr>\n",
              "      <th>2015-08-02</th>\n",
              "      <td>1.70</td>\n",
              "      <td>NaN</td>\n",
              "    </tr>\n",
              "    <tr>\n",
              "      <th>2015-08-03</th>\n",
              "      <td>1.40</td>\n",
              "      <td>NaN</td>\n",
              "    </tr>\n",
              "    <tr>\n",
              "      <th>2015-08-04</th>\n",
              "      <td>2.10</td>\n",
              "      <td>NaN</td>\n",
              "    </tr>\n",
              "    <tr>\n",
              "      <th>2015-08-06</th>\n",
              "      <td>2.38</td>\n",
              "      <td>NaN</td>\n",
              "    </tr>\n",
              "    <tr>\n",
              "      <th>2015-08-07</th>\n",
              "      <td>2.30</td>\n",
              "      <td>NaN</td>\n",
              "    </tr>\n",
              "    <tr>\n",
              "      <th>2015-08-08</th>\n",
              "      <td>3.40</td>\n",
              "      <td>NaN</td>\n",
              "    </tr>\n",
              "    <tr>\n",
              "      <th>2015-08-09</th>\n",
              "      <td>2.50</td>\n",
              "      <td>NaN</td>\n",
              "    </tr>\n",
              "    <tr>\n",
              "      <th>2015-08-10</th>\n",
              "      <td>3.36</td>\n",
              "      <td>0:28:37</td>\n",
              "    </tr>\n",
              "    <tr>\n",
              "      <th>2015-08-11</th>\n",
              "      <td>1.67</td>\n",
              "      <td>0:13:07</td>\n",
              "    </tr>\n",
              "    <tr>\n",
              "      <th>2015-08-12</th>\n",
              "      <td>1.42</td>\n",
              "      <td>0:10:35</td>\n",
              "    </tr>\n",
              "  </tbody>\n",
              "</table>\n",
              "</div>"
            ],
            "text/plain": [
              "            Distance     Time\n",
              "Date                         \n",
              "2015-08-02      1.70      NaN\n",
              "2015-08-03      1.40      NaN\n",
              "2015-08-04      2.10      NaN\n",
              "2015-08-06      2.38      NaN\n",
              "2015-08-07      2.30      NaN\n",
              "2015-08-08      3.40      NaN\n",
              "2015-08-09      2.50      NaN\n",
              "2015-08-10      3.36  0:28:37\n",
              "2015-08-11      1.67  0:13:07\n",
              "2015-08-12      1.42  0:10:35"
            ]
          },
          "metadata": {
            "tags": []
          },
          "execution_count": 11
        }
      ]
    },
    {
      "cell_type": "markdown",
      "metadata": {
        "id": "E5uAlmMypszc",
        "colab_type": "text"
      },
      "source": [
        "# Visualizing data"
      ]
    },
    {
      "cell_type": "code",
      "metadata": {
        "id": "Jkb8dquspwwJ",
        "colab_type": "code",
        "outputId": "e0a06721-6739-4952-908d-6fc238578cb3",
        "colab": {
          "base_uri": "https://localhost:8080/",
          "height": 294
        }
      },
      "source": [
        "data.plot()"
      ],
      "execution_count": 0,
      "outputs": [
        {
          "output_type": "execute_result",
          "data": {
            "text/plain": [
              "<matplotlib.axes._subplots.AxesSubplot at 0x7fe34b631390>"
            ]
          },
          "metadata": {
            "tags": []
          },
          "execution_count": 27
        },
        {
          "output_type": "display_data",
          "data": {
            "image/png": "[encoded data removed]",
            "text/plain": [
              "<Figure size 432x288 with 1 Axes>"
            ]
          },
          "metadata": {
            "tags": [],
            "needs_background": "light"
          }
        }
      ]
    },
    {
      "cell_type": "markdown",
      "metadata": {
        "id": "fjhMubb_r3Lg",
        "colab_type": "text"
      },
      "source": [
        "# Making some transformations"
      ]
    },
    {
      "cell_type": "code",
      "metadata": {
        "id": "KwZrwUETr5XI",
        "colab_type": "code",
        "colab": {}
      },
      "source": [
        "# Making a function to convert the Time to seconds\n",
        "def calc_secs(time):\n",
        "  if time is np.nan:\n",
        "    return np.nan\n",
        "  hrs, mins, seconds = str(time).split(':')\n",
        "  seconds = int(seconds) + 60 * int(mins) + 60 * 60 * int(hrs)\n",
        "  return seconds"
      ],
      "execution_count": 0,
      "outputs": []
    },
    {
      "cell_type": "code",
      "metadata": {
        "id": "3YajvgnJslT0",
        "colab_type": "code",
        "colab": {}
      },
      "source": [
        "# Apply this function to a new column\n",
        "data['seconds'] = data.Time.map(calc_secs)"
      ],
      "execution_count": 0,
      "outputs": []
    },
    {
      "cell_type": "code",
      "metadata": {
        "id": "4BYswK0dsyea",
        "colab_type": "code",
        "outputId": "75f9464e-f607-43bf-cef1-f9160e7a2f31",
        "colab": {
          "base_uri": "https://localhost:8080/",
          "height": 390
        }
      },
      "source": [
        "data.head(10)"
      ],
      "execution_count": 14,
      "outputs": [
        {
          "output_type": "execute_result",
          "data": {
            "text/html": [
              "<div>\n",
              "<style scoped>\n",
              "    .dataframe tbody tr th:only-of-type {\n",
              "        vertical-align: middle;\n",
              "    }\n",
              "\n",
              "    .dataframe tbody tr th {\n",
              "        vertical-align: top;\n",
              "    }\n",
              "\n",
              "    .dataframe thead th {\n",
              "        text-align: right;\n",
              "    }\n",
              "</style>\n",
              "<table border=\"1\" class=\"dataframe\">\n",
              "  <thead>\n",
              "    <tr style=\"text-align: right;\">\n",
              "      <th></th>\n",
              "      <th>Distance</th>\n",
              "      <th>Time</th>\n",
              "      <th>seconds</th>\n",
              "    </tr>\n",
              "    <tr>\n",
              "      <th>Date</th>\n",
              "      <th></th>\n",
              "      <th></th>\n",
              "      <th></th>\n",
              "    </tr>\n",
              "  </thead>\n",
              "  <tbody>\n",
              "    <tr>\n",
              "      <th>2015-08-02</th>\n",
              "      <td>1.70</td>\n",
              "      <td>NaN</td>\n",
              "      <td>NaN</td>\n",
              "    </tr>\n",
              "    <tr>\n",
              "      <th>2015-08-03</th>\n",
              "      <td>1.40</td>\n",
              "      <td>NaN</td>\n",
              "      <td>NaN</td>\n",
              "    </tr>\n",
              "    <tr>\n",
              "      <th>2015-08-04</th>\n",
              "      <td>2.10</td>\n",
              "      <td>NaN</td>\n",
              "      <td>NaN</td>\n",
              "    </tr>\n",
              "    <tr>\n",
              "      <th>2015-08-06</th>\n",
              "      <td>2.38</td>\n",
              "      <td>NaN</td>\n",
              "      <td>NaN</td>\n",
              "    </tr>\n",
              "    <tr>\n",
              "      <th>2015-08-07</th>\n",
              "      <td>2.30</td>\n",
              "      <td>NaN</td>\n",
              "      <td>NaN</td>\n",
              "    </tr>\n",
              "    <tr>\n",
              "      <th>2015-08-08</th>\n",
              "      <td>3.40</td>\n",
              "      <td>NaN</td>\n",
              "      <td>NaN</td>\n",
              "    </tr>\n",
              "    <tr>\n",
              "      <th>2015-08-09</th>\n",
              "      <td>2.50</td>\n",
              "      <td>NaN</td>\n",
              "      <td>NaN</td>\n",
              "    </tr>\n",
              "    <tr>\n",
              "      <th>2015-08-10</th>\n",
              "      <td>3.36</td>\n",
              "      <td>0:28:37</td>\n",
              "      <td>1717.0</td>\n",
              "    </tr>\n",
              "    <tr>\n",
              "      <th>2015-08-11</th>\n",
              "      <td>1.67</td>\n",
              "      <td>0:13:07</td>\n",
              "      <td>787.0</td>\n",
              "    </tr>\n",
              "    <tr>\n",
              "      <th>2015-08-12</th>\n",
              "      <td>1.42</td>\n",
              "      <td>0:10:35</td>\n",
              "      <td>635.0</td>\n",
              "    </tr>\n",
              "  </tbody>\n",
              "</table>\n",
              "</div>"
            ],
            "text/plain": [
              "            Distance     Time  seconds\n",
              "Date                                  \n",
              "2015-08-02      1.70      NaN      NaN\n",
              "2015-08-03      1.40      NaN      NaN\n",
              "2015-08-04      2.10      NaN      NaN\n",
              "2015-08-06      2.38      NaN      NaN\n",
              "2015-08-07      2.30      NaN      NaN\n",
              "2015-08-08      3.40      NaN      NaN\n",
              "2015-08-09      2.50      NaN      NaN\n",
              "2015-08-10      3.36  0:28:37   1717.0\n",
              "2015-08-11      1.67  0:13:07    787.0\n",
              "2015-08-12      1.42  0:10:35    635.0"
            ]
          },
          "metadata": {
            "tags": []
          },
          "execution_count": 14
        }
      ]
    },
    {
      "cell_type": "code",
      "metadata": {
        "id": "2fdLwax_t79Y",
        "colab_type": "code",
        "colab": {}
      },
      "source": [
        "# Now convert the Time column to minutes using the seconds column\n",
        "data['minutes'] = data['seconds'].map(lambda x: x / 60)"
      ],
      "execution_count": 0,
      "outputs": []
    },
    {
      "cell_type": "code",
      "metadata": {
        "id": "SSGj-S2LuQdR",
        "colab_type": "code",
        "outputId": "925da0a7-f9ed-439c-a804-058deba4375a",
        "colab": {
          "base_uri": "https://localhost:8080/",
          "height": 390
        }
      },
      "source": [
        "# Checking the new column\n",
        "data.head(10)"
      ],
      "execution_count": 16,
      "outputs": [
        {
          "output_type": "execute_result",
          "data": {
            "text/html": [
              "<div>\n",
              "<style scoped>\n",
              "    .dataframe tbody tr th:only-of-type {\n",
              "        vertical-align: middle;\n",
              "    }\n",
              "\n",
              "    .dataframe tbody tr th {\n",
              "        vertical-align: top;\n",
              "    }\n",
              "\n",
              "    .dataframe thead th {\n",
              "        text-align: right;\n",
              "    }\n",
              "</style>\n",
              "<table border=\"1\" class=\"dataframe\">\n",
              "  <thead>\n",
              "    <tr style=\"text-align: right;\">\n",
              "      <th></th>\n",
              "      <th>Distance</th>\n",
              "      <th>Time</th>\n",
              "      <th>seconds</th>\n",
              "      <th>minutes</th>\n",
              "    </tr>\n",
              "    <tr>\n",
              "      <th>Date</th>\n",
              "      <th></th>\n",
              "      <th></th>\n",
              "      <th></th>\n",
              "      <th></th>\n",
              "    </tr>\n",
              "  </thead>\n",
              "  <tbody>\n",
              "    <tr>\n",
              "      <th>2015-08-02</th>\n",
              "      <td>1.70</td>\n",
              "      <td>NaN</td>\n",
              "      <td>NaN</td>\n",
              "      <td>NaN</td>\n",
              "    </tr>\n",
              "    <tr>\n",
              "      <th>2015-08-03</th>\n",
              "      <td>1.40</td>\n",
              "      <td>NaN</td>\n",
              "      <td>NaN</td>\n",
              "      <td>NaN</td>\n",
              "    </tr>\n",
              "    <tr>\n",
              "      <th>2015-08-04</th>\n",
              "      <td>2.10</td>\n",
              "      <td>NaN</td>\n",
              "      <td>NaN</td>\n",
              "      <td>NaN</td>\n",
              "    </tr>\n",
              "    <tr>\n",
              "      <th>2015-08-06</th>\n",
              "      <td>2.38</td>\n",
              "      <td>NaN</td>\n",
              "      <td>NaN</td>\n",
              "      <td>NaN</td>\n",
              "    </tr>\n",
              "    <tr>\n",
              "      <th>2015-08-07</th>\n",
              "      <td>2.30</td>\n",
              "      <td>NaN</td>\n",
              "      <td>NaN</td>\n",
              "      <td>NaN</td>\n",
              "    </tr>\n",
              "    <tr>\n",
              "      <th>2015-08-08</th>\n",
              "      <td>3.40</td>\n",
              "      <td>NaN</td>\n",
              "      <td>NaN</td>\n",
              "      <td>NaN</td>\n",
              "    </tr>\n",
              "    <tr>\n",
              "      <th>2015-08-09</th>\n",
              "      <td>2.50</td>\n",
              "      <td>NaN</td>\n",
              "      <td>NaN</td>\n",
              "      <td>NaN</td>\n",
              "    </tr>\n",
              "    <tr>\n",
              "      <th>2015-08-10</th>\n",
              "      <td>3.36</td>\n",
              "      <td>0:28:37</td>\n",
              "      <td>1717.0</td>\n",
              "      <td>28.616667</td>\n",
              "    </tr>\n",
              "    <tr>\n",
              "      <th>2015-08-11</th>\n",
              "      <td>1.67</td>\n",
              "      <td>0:13:07</td>\n",
              "      <td>787.0</td>\n",
              "      <td>13.116667</td>\n",
              "    </tr>\n",
              "    <tr>\n",
              "      <th>2015-08-12</th>\n",
              "      <td>1.42</td>\n",
              "      <td>0:10:35</td>\n",
              "      <td>635.0</td>\n",
              "      <td>10.583333</td>\n",
              "    </tr>\n",
              "  </tbody>\n",
              "</table>\n",
              "</div>"
            ],
            "text/plain": [
              "            Distance     Time  seconds    minutes\n",
              "Date                                             \n",
              "2015-08-02      1.70      NaN      NaN        NaN\n",
              "2015-08-03      1.40      NaN      NaN        NaN\n",
              "2015-08-04      2.10      NaN      NaN        NaN\n",
              "2015-08-06      2.38      NaN      NaN        NaN\n",
              "2015-08-07      2.30      NaN      NaN        NaN\n",
              "2015-08-08      3.40      NaN      NaN        NaN\n",
              "2015-08-09      2.50      NaN      NaN        NaN\n",
              "2015-08-10      3.36  0:28:37   1717.0  28.616667\n",
              "2015-08-11      1.67  0:13:07    787.0  13.116667\n",
              "2015-08-12      1.42  0:10:35    635.0  10.583333"
            ]
          },
          "metadata": {
            "tags": []
          },
          "execution_count": 16
        }
      ]
    },
    {
      "cell_type": "code",
      "metadata": {
        "id": "QGJgNZVLSXzl",
        "colab_type": "code",
        "colab": {}
      },
      "source": [
        "# Make a new measure minutes by distance\n",
        "data['minBydis'] = data['minutes'] / data['Distance']"
      ],
      "execution_count": 0,
      "outputs": []
    },
    {
      "cell_type": "code",
      "metadata": {
        "id": "a0kG0m9GSmKW",
        "colab_type": "code",
        "colab": {
          "base_uri": "https://localhost:8080/",
          "height": 390
        },
        "outputId": "1b4fefb8-082f-4fd3-cdb9-8e4360fef944"
      },
      "source": [
        "# Checking the new column\n",
        "data.head(10)"
      ],
      "execution_count": 29,
      "outputs": [
        {
          "output_type": "execute_result",
          "data": {
            "text/html": [
              "<div>\n",
              "<style scoped>\n",
              "    .dataframe tbody tr th:only-of-type {\n",
              "        vertical-align: middle;\n",
              "    }\n",
              "\n",
              "    .dataframe tbody tr th {\n",
              "        vertical-align: top;\n",
              "    }\n",
              "\n",
              "    .dataframe thead th {\n",
              "        text-align: right;\n",
              "    }\n",
              "</style>\n",
              "<table border=\"1\" class=\"dataframe\">\n",
              "  <thead>\n",
              "    <tr style=\"text-align: right;\">\n",
              "      <th></th>\n",
              "      <th>Distance</th>\n",
              "      <th>Time</th>\n",
              "      <th>seconds</th>\n",
              "      <th>minutes</th>\n",
              "      <th>minBydis</th>\n",
              "    </tr>\n",
              "    <tr>\n",
              "      <th>Date</th>\n",
              "      <th></th>\n",
              "      <th></th>\n",
              "      <th></th>\n",
              "      <th></th>\n",
              "      <th></th>\n",
              "    </tr>\n",
              "  </thead>\n",
              "  <tbody>\n",
              "    <tr>\n",
              "      <th>2015-08-02</th>\n",
              "      <td>1.70</td>\n",
              "      <td>NaN</td>\n",
              "      <td>NaN</td>\n",
              "      <td>NaN</td>\n",
              "      <td>NaN</td>\n",
              "    </tr>\n",
              "    <tr>\n",
              "      <th>2015-08-03</th>\n",
              "      <td>1.40</td>\n",
              "      <td>NaN</td>\n",
              "      <td>NaN</td>\n",
              "      <td>NaN</td>\n",
              "      <td>NaN</td>\n",
              "    </tr>\n",
              "    <tr>\n",
              "      <th>2015-08-04</th>\n",
              "      <td>2.10</td>\n",
              "      <td>NaN</td>\n",
              "      <td>NaN</td>\n",
              "      <td>NaN</td>\n",
              "      <td>NaN</td>\n",
              "    </tr>\n",
              "    <tr>\n",
              "      <th>2015-08-06</th>\n",
              "      <td>2.38</td>\n",
              "      <td>NaN</td>\n",
              "      <td>NaN</td>\n",
              "      <td>NaN</td>\n",
              "      <td>NaN</td>\n",
              "    </tr>\n",
              "    <tr>\n",
              "      <th>2015-08-07</th>\n",
              "      <td>2.30</td>\n",
              "      <td>NaN</td>\n",
              "      <td>NaN</td>\n",
              "      <td>NaN</td>\n",
              "      <td>NaN</td>\n",
              "    </tr>\n",
              "    <tr>\n",
              "      <th>2015-08-08</th>\n",
              "      <td>3.40</td>\n",
              "      <td>NaN</td>\n",
              "      <td>NaN</td>\n",
              "      <td>NaN</td>\n",
              "      <td>NaN</td>\n",
              "    </tr>\n",
              "    <tr>\n",
              "      <th>2015-08-09</th>\n",
              "      <td>2.50</td>\n",
              "      <td>NaN</td>\n",
              "      <td>NaN</td>\n",
              "      <td>NaN</td>\n",
              "      <td>NaN</td>\n",
              "    </tr>\n",
              "    <tr>\n",
              "      <th>2015-08-10</th>\n",
              "      <td>3.36</td>\n",
              "      <td>0:28:37</td>\n",
              "      <td>1717.0</td>\n",
              "      <td>28.616667</td>\n",
              "      <td>8.516865</td>\n",
              "    </tr>\n",
              "    <tr>\n",
              "      <th>2015-08-11</th>\n",
              "      <td>1.67</td>\n",
              "      <td>0:13:07</td>\n",
              "      <td>787.0</td>\n",
              "      <td>13.116667</td>\n",
              "      <td>7.854291</td>\n",
              "    </tr>\n",
              "    <tr>\n",
              "      <th>2015-08-12</th>\n",
              "      <td>1.42</td>\n",
              "      <td>0:10:35</td>\n",
              "      <td>635.0</td>\n",
              "      <td>10.583333</td>\n",
              "      <td>7.453052</td>\n",
              "    </tr>\n",
              "  </tbody>\n",
              "</table>\n",
              "</div>"
            ],
            "text/plain": [
              "            Distance     Time  seconds    minutes  minBydis\n",
              "Date                                                       \n",
              "2015-08-02      1.70      NaN      NaN        NaN       NaN\n",
              "2015-08-03      1.40      NaN      NaN        NaN       NaN\n",
              "2015-08-04      2.10      NaN      NaN        NaN       NaN\n",
              "2015-08-06      2.38      NaN      NaN        NaN       NaN\n",
              "2015-08-07      2.30      NaN      NaN        NaN       NaN\n",
              "2015-08-08      3.40      NaN      NaN        NaN       NaN\n",
              "2015-08-09      2.50      NaN      NaN        NaN       NaN\n",
              "2015-08-10      3.36  0:28:37   1717.0  28.616667  8.516865\n",
              "2015-08-11      1.67  0:13:07    787.0  13.116667  7.854291\n",
              "2015-08-12      1.42  0:10:35    635.0  10.583333  7.453052"
            ]
          },
          "metadata": {
            "tags": []
          },
          "execution_count": 29
        }
      ]
    },
    {
      "cell_type": "markdown",
      "metadata": {
        "id": "ldvtOInHtFYf",
        "colab_type": "text"
      },
      "source": [
        "# Describing the dataset"
      ]
    },
    {
      "cell_type": "code",
      "metadata": {
        "id": "x7pRyU8CtNGF",
        "colab_type": "code",
        "outputId": "ee410306-7c0d-4ae7-8221-680ea4246cf7",
        "colab": {
          "base_uri": "https://localhost:8080/",
          "height": 297
        }
      },
      "source": [
        "data.describe()"
      ],
      "execution_count": 30,
      "outputs": [
        {
          "output_type": "execute_result",
          "data": {
            "text/html": [
              "<div>\n",
              "<style scoped>\n",
              "    .dataframe tbody tr th:only-of-type {\n",
              "        vertical-align: middle;\n",
              "    }\n",
              "\n",
              "    .dataframe tbody tr th {\n",
              "        vertical-align: top;\n",
              "    }\n",
              "\n",
              "    .dataframe thead th {\n",
              "        text-align: right;\n",
              "    }\n",
              "</style>\n",
              "<table border=\"1\" class=\"dataframe\">\n",
              "  <thead>\n",
              "    <tr style=\"text-align: right;\">\n",
              "      <th></th>\n",
              "      <th>Distance</th>\n",
              "      <th>seconds</th>\n",
              "      <th>minutes</th>\n",
              "      <th>minBydis</th>\n",
              "    </tr>\n",
              "  </thead>\n",
              "  <tbody>\n",
              "    <tr>\n",
              "      <th>count</th>\n",
              "      <td>81.000000</td>\n",
              "      <td>52.000000</td>\n",
              "      <td>52.000000</td>\n",
              "      <td>52.000000</td>\n",
              "    </tr>\n",
              "    <tr>\n",
              "      <th>mean</th>\n",
              "      <td>3.137531</td>\n",
              "      <td>1901.788462</td>\n",
              "      <td>31.696474</td>\n",
              "      <td>7.725297</td>\n",
              "    </tr>\n",
              "    <tr>\n",
              "      <th>std</th>\n",
              "      <td>3.634519</td>\n",
              "      <td>2560.424171</td>\n",
              "      <td>42.673736</td>\n",
              "      <td>0.954475</td>\n",
              "    </tr>\n",
              "    <tr>\n",
              "      <th>min</th>\n",
              "      <td>0.650000</td>\n",
              "      <td>376.000000</td>\n",
              "      <td>6.266667</td>\n",
              "      <td>6.000000</td>\n",
              "    </tr>\n",
              "    <tr>\n",
              "      <th>25%</th>\n",
              "      <td>1.370000</td>\n",
              "      <td>583.750000</td>\n",
              "      <td>9.729167</td>\n",
              "      <td>7.020479</td>\n",
              "    </tr>\n",
              "    <tr>\n",
              "      <th>50%</th>\n",
              "      <td>2.100000</td>\n",
              "      <td>1343.500000</td>\n",
              "      <td>22.391667</td>\n",
              "      <td>7.533333</td>\n",
              "    </tr>\n",
              "    <tr>\n",
              "      <th>75%</th>\n",
              "      <td>3.050000</td>\n",
              "      <td>1743.250000</td>\n",
              "      <td>29.054167</td>\n",
              "      <td>8.480023</td>\n",
              "    </tr>\n",
              "    <tr>\n",
              "      <th>max</th>\n",
              "      <td>26.200000</td>\n",
              "      <td>15643.000000</td>\n",
              "      <td>260.716667</td>\n",
              "      <td>10.000000</td>\n",
              "    </tr>\n",
              "  </tbody>\n",
              "</table>\n",
              "</div>"
            ],
            "text/plain": [
              "        Distance       seconds     minutes   minBydis\n",
              "count  81.000000     52.000000   52.000000  52.000000\n",
              "mean    3.137531   1901.788462   31.696474   7.725297\n",
              "std     3.634519   2560.424171   42.673736   0.954475\n",
              "min     0.650000    376.000000    6.266667   6.000000\n",
              "25%     1.370000    583.750000    9.729167   7.020479\n",
              "50%     2.100000   1343.500000   22.391667   7.533333\n",
              "75%     3.050000   1743.250000   29.054167   8.480023\n",
              "max    26.200000  15643.000000  260.716667  10.000000"
            ]
          },
          "metadata": {
            "tags": []
          },
          "execution_count": 30
        }
      ]
    },
    {
      "cell_type": "code",
      "metadata": {
        "id": "W4v4NikitbR1",
        "colab_type": "code",
        "outputId": "79de065b-d2fc-4384-8390-b0a74da9916f",
        "colab": {
          "base_uri": "https://localhost:8080/",
          "height": 297
        }
      },
      "source": [
        "# Filling NaN values with 0 and describing again\n",
        "data.fillna(0).describe()"
      ],
      "execution_count": 31,
      "outputs": [
        {
          "output_type": "execute_result",
          "data": {
            "text/html": [
              "<div>\n",
              "<style scoped>\n",
              "    .dataframe tbody tr th:only-of-type {\n",
              "        vertical-align: middle;\n",
              "    }\n",
              "\n",
              "    .dataframe tbody tr th {\n",
              "        vertical-align: top;\n",
              "    }\n",
              "\n",
              "    .dataframe thead th {\n",
              "        text-align: right;\n",
              "    }\n",
              "</style>\n",
              "<table border=\"1\" class=\"dataframe\">\n",
              "  <thead>\n",
              "    <tr style=\"text-align: right;\">\n",
              "      <th></th>\n",
              "      <th>Distance</th>\n",
              "      <th>seconds</th>\n",
              "      <th>minutes</th>\n",
              "      <th>minBydis</th>\n",
              "    </tr>\n",
              "  </thead>\n",
              "  <tbody>\n",
              "    <tr>\n",
              "      <th>count</th>\n",
              "      <td>81.000000</td>\n",
              "      <td>81.000000</td>\n",
              "      <td>81.000000</td>\n",
              "      <td>81.000000</td>\n",
              "    </tr>\n",
              "    <tr>\n",
              "      <th>mean</th>\n",
              "      <td>3.137531</td>\n",
              "      <td>1220.901235</td>\n",
              "      <td>20.348354</td>\n",
              "      <td>4.959450</td>\n",
              "    </tr>\n",
              "    <tr>\n",
              "      <th>std</th>\n",
              "      <td>3.634519</td>\n",
              "      <td>2240.756985</td>\n",
              "      <td>37.345950</td>\n",
              "      <td>3.803856</td>\n",
              "    </tr>\n",
              "    <tr>\n",
              "      <th>min</th>\n",
              "      <td>0.650000</td>\n",
              "      <td>0.000000</td>\n",
              "      <td>0.000000</td>\n",
              "      <td>0.000000</td>\n",
              "    </tr>\n",
              "    <tr>\n",
              "      <th>25%</th>\n",
              "      <td>1.370000</td>\n",
              "      <td>0.000000</td>\n",
              "      <td>0.000000</td>\n",
              "      <td>0.000000</td>\n",
              "    </tr>\n",
              "    <tr>\n",
              "      <th>50%</th>\n",
              "      <td>2.100000</td>\n",
              "      <td>573.000000</td>\n",
              "      <td>9.550000</td>\n",
              "      <td>6.962963</td>\n",
              "    </tr>\n",
              "    <tr>\n",
              "      <th>75%</th>\n",
              "      <td>3.050000</td>\n",
              "      <td>1426.000000</td>\n",
              "      <td>23.766667</td>\n",
              "      <td>7.792350</td>\n",
              "    </tr>\n",
              "    <tr>\n",
              "      <th>max</th>\n",
              "      <td>26.200000</td>\n",
              "      <td>15643.000000</td>\n",
              "      <td>260.716667</td>\n",
              "      <td>10.000000</td>\n",
              "    </tr>\n",
              "  </tbody>\n",
              "</table>\n",
              "</div>"
            ],
            "text/plain": [
              "        Distance       seconds     minutes   minBydis\n",
              "count  81.000000     81.000000   81.000000  81.000000\n",
              "mean    3.137531   1220.901235   20.348354   4.959450\n",
              "std     3.634519   2240.756985   37.345950   3.803856\n",
              "min     0.650000      0.000000    0.000000   0.000000\n",
              "25%     1.370000      0.000000    0.000000   0.000000\n",
              "50%     2.100000    573.000000    9.550000   6.962963\n",
              "75%     3.050000   1426.000000   23.766667   7.792350\n",
              "max    26.200000  15643.000000  260.716667  10.000000"
            ]
          },
          "metadata": {
            "tags": []
          },
          "execution_count": 31
        }
      ]
    },
    {
      "cell_type": "markdown",
      "metadata": {
        "id": "chfhdcG3ulUm",
        "colab_type": "text"
      },
      "source": [
        "# Ploting\n",
        "This plot is to know whether there is any correlation between `Distance` and `Minutes`."
      ]
    },
    {
      "cell_type": "code",
      "metadata": {
        "id": "cs77Qp5Auomu",
        "colab_type": "code",
        "outputId": "8aee8601-eee7-4540-a7ae-d12e556b1a3e",
        "colab": {
          "base_uri": "https://localhost:8080/",
          "height": 296
        }
      },
      "source": [
        "data.plot(x = 'Distance', y = 'minutes', kind = 'scatter')"
      ],
      "execution_count": 19,
      "outputs": [
        {
          "output_type": "execute_result",
          "data": {
            "text/plain": [
              "<matplotlib.axes._subplots.AxesSubplot at 0x7fe6bb8c5f60>"
            ]
          },
          "metadata": {
            "tags": []
          },
          "execution_count": 19
        },
        {
          "output_type": "display_data",
          "data": {
            "image/png": "[encoded data removed]",
            "text/plain": [
              "<Figure size 432x288 with 1 Axes>"
            ]
          },
          "metadata": {
            "tags": [],
            "needs_background": "light"
          }
        }
      ]
    },
    {
      "cell_type": "markdown",
      "metadata": {
        "id": "hGjYSGthvcKH",
        "colab_type": "text"
      },
      "source": [
        "In this case, there is a positive correlation. \n",
        "\n",
        "The greater the distance, more minutes are needed."
      ]
    },
    {
      "cell_type": "markdown",
      "metadata": {
        "id": "t7nQRhfGRQEv",
        "colab_type": "text"
      },
      "source": [
        "## Correlation Table"
      ]
    },
    {
      "cell_type": "code",
      "metadata": {
        "id": "4IM4KRgUvwsb",
        "colab_type": "code",
        "colab": {
          "base_uri": "https://localhost:8080/",
          "height": 173
        },
        "outputId": "77b0b65d-73aa-4b65-fb58-58e1e77cc077"
      },
      "source": [
        "# Making a correlation table - Pearson \n",
        "data.corr()"
      ],
      "execution_count": 35,
      "outputs": [
        {
          "output_type": "execute_result",
          "data": {
            "text/html": [
              "<div>\n",
              "<style scoped>\n",
              "    .dataframe tbody tr th:only-of-type {\n",
              "        vertical-align: middle;\n",
              "    }\n",
              "\n",
              "    .dataframe tbody tr th {\n",
              "        vertical-align: top;\n",
              "    }\n",
              "\n",
              "    .dataframe thead th {\n",
              "        text-align: right;\n",
              "    }\n",
              "</style>\n",
              "<table border=\"1\" class=\"dataframe\">\n",
              "  <thead>\n",
              "    <tr style=\"text-align: right;\">\n",
              "      <th></th>\n",
              "      <th>Distance</th>\n",
              "      <th>seconds</th>\n",
              "      <th>minutes</th>\n",
              "      <th>minBydis</th>\n",
              "    </tr>\n",
              "  </thead>\n",
              "  <tbody>\n",
              "    <tr>\n",
              "      <th>Distance</th>\n",
              "      <td>1.000000</td>\n",
              "      <td>0.997203</td>\n",
              "      <td>0.997203</td>\n",
              "      <td>0.629387</td>\n",
              "    </tr>\n",
              "    <tr>\n",
              "      <th>seconds</th>\n",
              "      <td>0.997203</td>\n",
              "      <td>1.000000</td>\n",
              "      <td>1.000000</td>\n",
              "      <td>0.642184</td>\n",
              "    </tr>\n",
              "    <tr>\n",
              "      <th>minutes</th>\n",
              "      <td>0.997203</td>\n",
              "      <td>1.000000</td>\n",
              "      <td>1.000000</td>\n",
              "      <td>0.642184</td>\n",
              "    </tr>\n",
              "    <tr>\n",
              "      <th>minBydis</th>\n",
              "      <td>0.629387</td>\n",
              "      <td>0.642184</td>\n",
              "      <td>0.642184</td>\n",
              "      <td>1.000000</td>\n",
              "    </tr>\n",
              "  </tbody>\n",
              "</table>\n",
              "</div>"
            ],
            "text/plain": [
              "          Distance   seconds   minutes  minBydis\n",
              "Distance  1.000000  0.997203  0.997203  0.629387\n",
              "seconds   0.997203  1.000000  1.000000  0.642184\n",
              "minutes   0.997203  1.000000  1.000000  0.642184\n",
              "minBydis  0.629387  0.642184  0.642184  1.000000"
            ]
          },
          "metadata": {
            "tags": []
          },
          "execution_count": 35
        }
      ]
    },
    {
      "cell_type": "code",
      "metadata": {
        "id": "Ra4DWbEiQ4hZ",
        "colab_type": "code",
        "colab": {
          "base_uri": "https://localhost:8080/",
          "height": 173
        },
        "outputId": "156de83f-cbeb-4ca9-d508-4af522248cd2"
      },
      "source": [
        "# Making a correlation table - Spearman\n",
        "data.corr(method='spearman')"
      ],
      "execution_count": 34,
      "outputs": [
        {
          "output_type": "execute_result",
          "data": {
            "text/html": [
              "<div>\n",
              "<style scoped>\n",
              "    .dataframe tbody tr th:only-of-type {\n",
              "        vertical-align: middle;\n",
              "    }\n",
              "\n",
              "    .dataframe tbody tr th {\n",
              "        vertical-align: top;\n",
              "    }\n",
              "\n",
              "    .dataframe thead th {\n",
              "        text-align: right;\n",
              "    }\n",
              "</style>\n",
              "<table border=\"1\" class=\"dataframe\">\n",
              "  <thead>\n",
              "    <tr style=\"text-align: right;\">\n",
              "      <th></th>\n",
              "      <th>Distance</th>\n",
              "      <th>seconds</th>\n",
              "      <th>minutes</th>\n",
              "      <th>minBydis</th>\n",
              "    </tr>\n",
              "  </thead>\n",
              "  <tbody>\n",
              "    <tr>\n",
              "      <th>Distance</th>\n",
              "      <td>1.000000</td>\n",
              "      <td>0.964820</td>\n",
              "      <td>0.964820</td>\n",
              "      <td>0.755847</td>\n",
              "    </tr>\n",
              "    <tr>\n",
              "      <th>seconds</th>\n",
              "      <td>0.964820</td>\n",
              "      <td>1.000000</td>\n",
              "      <td>1.000000</td>\n",
              "      <td>0.870189</td>\n",
              "    </tr>\n",
              "    <tr>\n",
              "      <th>minutes</th>\n",
              "      <td>0.964820</td>\n",
              "      <td>1.000000</td>\n",
              "      <td>1.000000</td>\n",
              "      <td>0.870189</td>\n",
              "    </tr>\n",
              "    <tr>\n",
              "      <th>minBydis</th>\n",
              "      <td>0.755847</td>\n",
              "      <td>0.870189</td>\n",
              "      <td>0.870189</td>\n",
              "      <td>1.000000</td>\n",
              "    </tr>\n",
              "  </tbody>\n",
              "</table>\n",
              "</div>"
            ],
            "text/plain": [
              "          Distance   seconds   minutes  minBydis\n",
              "Distance  1.000000  0.964820  0.964820  0.755847\n",
              "seconds   0.964820  1.000000  1.000000  0.870189\n",
              "minutes   0.964820  1.000000  1.000000  0.870189\n",
              "minBydis  0.755847  0.870189  0.870189  1.000000"
            ]
          },
          "metadata": {
            "tags": []
          },
          "execution_count": 34
        }
      ]
    },
    {
      "cell_type": "code",
      "metadata": {
        "id": "D0NwbH8fRFv3",
        "colab_type": "code",
        "colab": {
          "base_uri": "https://localhost:8080/",
          "height": 173
        },
        "outputId": "e8170195-0311-478a-913d-f0f2c94b5e7f"
      },
      "source": [
        "# Making a correlation table - Kendall\n",
        "data.corr(method='kendall')"
      ],
      "execution_count": 33,
      "outputs": [
        {
          "output_type": "execute_result",
          "data": {
            "text/html": [
              "<div>\n",
              "<style scoped>\n",
              "    .dataframe tbody tr th:only-of-type {\n",
              "        vertical-align: middle;\n",
              "    }\n",
              "\n",
              "    .dataframe tbody tr th {\n",
              "        vertical-align: top;\n",
              "    }\n",
              "\n",
              "    .dataframe thead th {\n",
              "        text-align: right;\n",
              "    }\n",
              "</style>\n",
              "<table border=\"1\" class=\"dataframe\">\n",
              "  <thead>\n",
              "    <tr style=\"text-align: right;\">\n",
              "      <th></th>\n",
              "      <th>Distance</th>\n",
              "      <th>seconds</th>\n",
              "      <th>minutes</th>\n",
              "      <th>minBydis</th>\n",
              "    </tr>\n",
              "  </thead>\n",
              "  <tbody>\n",
              "    <tr>\n",
              "      <th>Distance</th>\n",
              "      <td>1.000000</td>\n",
              "      <td>0.883050</td>\n",
              "      <td>0.883050</td>\n",
              "      <td>0.577922</td>\n",
              "    </tr>\n",
              "    <tr>\n",
              "      <th>seconds</th>\n",
              "      <td>0.883050</td>\n",
              "      <td>1.000000</td>\n",
              "      <td>1.000000</td>\n",
              "      <td>0.709263</td>\n",
              "    </tr>\n",
              "    <tr>\n",
              "      <th>minutes</th>\n",
              "      <td>0.883050</td>\n",
              "      <td>1.000000</td>\n",
              "      <td>1.000000</td>\n",
              "      <td>0.709263</td>\n",
              "    </tr>\n",
              "    <tr>\n",
              "      <th>minBydis</th>\n",
              "      <td>0.577922</td>\n",
              "      <td>0.709263</td>\n",
              "      <td>0.709263</td>\n",
              "      <td>1.000000</td>\n",
              "    </tr>\n",
              "  </tbody>\n",
              "</table>\n",
              "</div>"
            ],
            "text/plain": [
              "          Distance   seconds   minutes  minBydis\n",
              "Distance  1.000000  0.883050  0.883050  0.577922\n",
              "seconds   0.883050  1.000000  1.000000  0.709263\n",
              "minutes   0.883050  1.000000  1.000000  0.709263\n",
              "minBydis  0.577922  0.709263  0.709263  1.000000"
            ]
          },
          "metadata": {
            "tags": []
          },
          "execution_count": 33
        }
      ]
    },
    {
      "cell_type": "markdown",
      "metadata": {
        "id": "IaduRr40RaYK",
        "colab_type": "text"
      },
      "source": [
        "## Boxplot\n",
        "Good for identifying outliers.\n"
      ]
    },
    {
      "cell_type": "code",
      "metadata": {
        "id": "6xvBN5itRehw",
        "colab_type": "code",
        "colab": {
          "base_uri": "https://localhost:8080/",
          "height": 282
        },
        "outputId": "9242df18-9611-4489-9651-afe2b0b0ceba"
      },
      "source": [
        "data.boxplot('minutes')"
      ],
      "execution_count": 36,
      "outputs": [
        {
          "output_type": "execute_result",
          "data": {
            "text/plain": [
              "<matplotlib.axes._subplots.AxesSubplot at 0x7fe6aed08a20>"
            ]
          },
          "metadata": {
            "tags": []
          },
          "execution_count": 36
        },
        {
          "output_type": "display_data",
          "data": {
            "image/png": "[encoded data removed]",
            "text/plain": [
              "<Figure size 432x288 with 1 Axes>"
            ]
          },
          "metadata": {
            "tags": [],
            "needs_background": "light"
          }
        }
      ]
    },
    {
      "cell_type": "markdown",
      "metadata": {
        "id": "Jlefj91ISyht",
        "colab_type": "text"
      },
      "source": [
        "## Histogram\n",
        "To see the distribuition of this variable."
      ]
    },
    {
      "cell_type": "code",
      "metadata": {
        "id": "HK8owce7S31K",
        "colab_type": "code",
        "colab": {
          "base_uri": "https://localhost:8080/",
          "height": 315
        },
        "outputId": "414dd82b-dce0-4b7d-f66f-7e6a23477a1a"
      },
      "source": [
        "data.hist('minBydis')"
      ],
      "execution_count": 37,
      "outputs": [
        {
          "output_type": "execute_result",
          "data": {
            "text/plain": [
              "array([[<matplotlib.axes._subplots.AxesSubplot object at 0x7fe6ad980668>]],\n",
              "      dtype=object)"
            ]
          },
          "metadata": {
            "tags": []
          },
          "execution_count": 37
        },
        {
          "output_type": "display_data",
          "data": {
            "image/png": "[encoded data removed]",
            "text/plain": [
              "<Figure size 432x288 with 1 Axes>"
            ]
          },
          "metadata": {
            "tags": [],
            "needs_background": "light"
          }
        }
      ]
    },
    {
      "cell_type": "code",
      "metadata": {
        "id": "DxE6aumgTS04",
        "colab_type": "code",
        "colab": {
          "base_uri": "https://localhost:8080/",
          "height": 315
        },
        "outputId": "a0ec7dd6-52ff-4d8f-bd2e-4cfc9c6cf532"
      },
      "source": [
        "# Adjusting the bins\n",
        "data.hist('minBydis',bins=8)"
      ],
      "execution_count": 41,
      "outputs": [
        {
          "output_type": "execute_result",
          "data": {
            "text/plain": [
              "array([[<matplotlib.axes._subplots.AxesSubplot object at 0x7fe6ad81a4a8>]],\n",
              "      dtype=object)"
            ]
          },
          "metadata": {
            "tags": []
          },
          "execution_count": 41
        },
        {
          "output_type": "display_data",
          "data": {
            "image/png": "[encoded data removed]",
            "text/plain": [
              "<Figure size 432x288 with 1 Axes>"
            ]
          },
          "metadata": {
            "tags": [],
            "needs_background": "light"
          }
        }
      ]
    },
    {
      "cell_type": "markdown",
      "metadata": {
        "id": "31N8VVj4TqEU",
        "colab_type": "text"
      },
      "source": [
        "### Saving the plot image in disk\n"
      ]
    },
    {
      "cell_type": "code",
      "metadata": {
        "id": "HtPG4W2OTw1o",
        "colab_type": "code",
        "colab": {
          "base_uri": "https://localhost:8080/",
          "height": 336
        },
        "outputId": "db1cbd17-3f1d-4241-cc74-faa86911eb4a"
      },
      "source": [
        "data.hist('minBydis',bins=8,figsize=(8,5))\n",
        "plt.title('Histogram - Minutes by Distance')\n",
        "plt.grid(False)\n",
        "plt.savefig('/content/drive/My Drive/Colab Notebooks/04_study_case_eda_bike_taxi_nyc/data/hist_minBydis.png')"
      ],
      "execution_count": 44,
      "outputs": [
        {
          "output_type": "display_data",
          "data": {
            "image/png": "[encoded data removed]",
            "text/plain": [
              "<Figure size 576x360 with 1 Axes>"
            ]
          },
          "metadata": {
            "tags": [],
            "needs_background": "light"
          }
        }
      ]
    },
    {
      "cell_type": "markdown",
      "metadata": {
        "id": "yg8Ck0YSU5fY",
        "colab_type": "text"
      },
      "source": [
        "## Windowing"
      ]
    },
    {
      "cell_type": "code",
      "metadata": {
        "id": "qAnb_-2YVThF",
        "colab_type": "code",
        "colab": {
          "base_uri": "https://localhost:8080/",
          "height": 294
        },
        "outputId": "9b052652-dd9b-44e6-dbbd-302307056346"
      },
      "source": [
        "# Calculate the mean in a window of 2 hours\n",
        "data['Distance'].plot() # Blue line\n",
        "pd.Series(data['Distance']).rolling(window=2).mean().plot() # Orange line"
      ],
      "execution_count": 48,
      "outputs": [
        {
          "output_type": "execute_result",
          "data": {
            "text/plain": [
              "<matplotlib.axes._subplots.AxesSubplot at 0x7fe6ab4b4e48>"
            ]
          },
          "metadata": {
            "tags": []
          },
          "execution_count": 48
        },
        {
          "output_type": "display_data",
          "data": {
            "image/png": "[encoded data removed]",
            "text/plain": [
              "<Figure size 432x288 with 1 Axes>"
            ]
          },
          "metadata": {
            "tags": [],
            "needs_background": "light"
          }
        }
      ]
    },
    {
      "cell_type": "code",
      "metadata": {
        "id": "3UgcFyq4V7WQ",
        "colab_type": "code",
        "colab": {
          "base_uri": "https://localhost:8080/",
          "height": 294
        },
        "outputId": "235c12e7-55ea-43a6-e596-cd96bdcd1c04"
      },
      "source": [
        "# Calculate the sum in a window of 2 hours\n",
        "data['Distance'].plot() # Blue line\n",
        "pd.Series(data['Distance']).rolling(window=2).sum().plot() # Orange line"
      ],
      "execution_count": 49,
      "outputs": [
        {
          "output_type": "execute_result",
          "data": {
            "text/plain": [
              "<matplotlib.axes._subplots.AxesSubplot at 0x7fe6ab41bc50>"
            ]
          },
          "metadata": {
            "tags": []
          },
          "execution_count": 49
        },
        {
          "output_type": "display_data",
          "data": {
            "image/png": "[encoded data removed]",
            "text/plain": [
              "<Figure size 432x288 with 1 Axes>"
            ]
          },
          "metadata": {
            "tags": [],
            "needs_background": "light"
          }
        }
      ]
    },
    {
      "cell_type": "markdown",
      "metadata": {
        "id": "HhJplKrIWI6O",
        "colab_type": "text"
      },
      "source": [
        "## Plotting a Slice by Date (index)"
      ]
    },
    {
      "cell_type": "code",
      "metadata": {
        "id": "4pGStJZoWWgI",
        "colab_type": "code",
        "colab": {
          "base_uri": "https://localhost:8080/",
          "height": 302
        },
        "outputId": "03612aff-03b1-4d24-ff08-ee9fe370c7da"
      },
      "source": [
        "data['2015-11':'2016-1-1']['Distance'].plot()"
      ],
      "execution_count": 50,
      "outputs": [
        {
          "output_type": "execute_result",
          "data": {
            "text/plain": [
              "<matplotlib.axes._subplots.AxesSubplot at 0x7fe6ab37c1d0>"
            ]
          },
          "metadata": {
            "tags": []
          },
          "execution_count": 50
        },
        {
          "output_type": "display_data",
          "data": {
            "image/png": "[encoded data removed]",
            "text/plain": [
              "<Figure size 432x288 with 1 Axes>"
            ]
          },
          "metadata": {
            "tags": [],
            "needs_background": "light"
          }
        }
      ]
    },
    {
      "cell_type": "markdown",
      "metadata": {
        "id": "GV83ZdRGQgU0",
        "colab_type": "text"
      },
      "source": [
        "# Backup Data File"
      ]
    },
    {
      "cell_type": "code",
      "metadata": {
        "id": "HkIXFxo2Qj0r",
        "colab_type": "code",
        "colab": {}
      },
      "source": [
        "data.to_csv('/content/drive/My Drive/Colab Notebooks/04_study_case_eda_bike_taxi_nyc/data/taxis_bikes_nycity_changed_v2.csv')"
      ],
      "execution_count": 0,
      "outputs": []
    }
  ]
}