{
  "nbformat": 4,
  "nbformat_minor": 0,
  "metadata": {
    "colab": {
      "name": "01_eda_bike_taxis_nyc.ipynb",
      "provenance": [],
      "collapsed_sections": [],
      "mount_file_id": "14dBPOS6qbjJ7y7IQRfyWyBv7BMTr-sB8",
      "authorship_tag": "ABX9TyMWIW2S44ftUnU7mq/gGfuL",
      "include_colab_link": true
    },
    "kernelspec": {
      "name": "python3",
      "display_name": "Python 3"
    }
  },
  "cells": [
    {
      "cell_type": "markdown",
      "metadata": {
        "id": "view-in-github",
        "colab_type": "text"
      },
      "source": [
        "<a href=\"https://colab.research.google.com/github/ralsouza/study_case_eda_bike_taxi_nyc/blob/master/notebooks/01_eda_bike_taxis_nyc.ipynb\" target=\"_parent\"><img src=\"https://colab.research.google.com/assets/colab-badge.svg\" alt=\"Open In Colab\"/></a>"
      ]
    },
    {
      "cell_type": "markdown",
      "metadata": {
        "id": "E_2dmpweqjrA",
        "colab_type": "text"
      },
      "source": [
        "# 1. Import Libraries"
      ]
    },
    {
      "cell_type": "code",
      "metadata": {
        "id": "7GZfLSvHqaNk",
        "colab_type": "code",
        "colab": {}
      },
      "source": [
        "import pandas as pd\n",
        "import numpy as np\n",
        "import matplotlib as plt\n",
        "%matplotlib inline"
      ],
      "execution_count": 0,
      "outputs": []
    },
    {
      "cell_type": "markdown",
      "metadata": {
        "id": "ezwshoMmqy5G",
        "colab_type": "text"
      },
      "source": [
        "# 2. Load Data"
      ]
    },
    {
      "cell_type": "code",
      "metadata": {
        "id": "1szVhFQwqwZ-",
        "colab_type": "code",
        "colab": {}
      },
      "source": [
        "data = pd.read_csv('/content/drive/My Drive/Colab Notebooks/04_study_case_eda_bike_taxi_nyc/data/taxis_bikes_nycity.csv')"
      ],
      "execution_count": 0,
      "outputs": []
    },
    {
      "cell_type": "markdown",
      "metadata": {
        "id": "pP5MNPKyrSus",
        "colab_type": "text"
      },
      "source": [
        "# 3. Check Loaded Data"
      ]
    },
    {
      "cell_type": "code",
      "metadata": {
        "id": "hiTsxqfurV_a",
        "colab_type": "code",
        "outputId": "b30270c2-b883-42f0-a42c-d9f3a3ab2550",
        "colab": {
          "base_uri": "https://localhost:8080/",
          "height": 34
        }
      },
      "source": [
        "# Check the type of object\n",
        "type(data)"
      ],
      "execution_count": 0,
      "outputs": [
        {
          "output_type": "execute_result",
          "data": {
            "text/plain": [
              "pandas.core.frame.DataFrame"
            ]
          },
          "metadata": {
            "tags": []
          },
          "execution_count": 3
        }
      ]
    },
    {
      "cell_type": "code",
      "metadata": {
        "id": "KDpRv6jfrbBm",
        "colab_type": "code",
        "outputId": "8e8a8594-d62c-43c6-9cb3-95517b572b1d",
        "colab": {
          "base_uri": "https://localhost:8080/",
          "height": 359
        }
      },
      "source": [
        "# Check the first 10 rows\n",
        "# Data = Date of the trip\n",
        "# Distancia = Travelled distance\n",
        "# Tempo = Elapsed time\n",
        "\n",
        "data.head(10)"
      ],
      "execution_count": 0,
      "outputs": [
        {
          "output_type": "execute_result",
          "data": {
            "text/html": [
              "<div>\n",
              "<style scoped>\n",
              "    .dataframe tbody tr th:only-of-type {\n",
              "        vertical-align: middle;\n",
              "    }\n",
              "\n",
              "    .dataframe tbody tr th {\n",
              "        vertical-align: top;\n",
              "    }\n",
              "\n",
              "    .dataframe thead th {\n",
              "        text-align: right;\n",
              "    }\n",
              "</style>\n",
              "<table border=\"1\" class=\"dataframe\">\n",
              "  <thead>\n",
              "    <tr style=\"text-align: right;\">\n",
              "      <th></th>\n",
              "      <th>Data</th>\n",
              "      <th>Distancia</th>\n",
              "      <th>Tempo</th>\n",
              "    </tr>\n",
              "  </thead>\n",
              "  <tbody>\n",
              "    <tr>\n",
              "      <th>0</th>\n",
              "      <td>8/2/15</td>\n",
              "      <td>1.70</td>\n",
              "      <td>NaN</td>\n",
              "    </tr>\n",
              "    <tr>\n",
              "      <th>1</th>\n",
              "      <td>8/3/15</td>\n",
              "      <td>1.40</td>\n",
              "      <td>NaN</td>\n",
              "    </tr>\n",
              "    <tr>\n",
              "      <th>2</th>\n",
              "      <td>8/4/15</td>\n",
              "      <td>2.10</td>\n",
              "      <td>NaN</td>\n",
              "    </tr>\n",
              "    <tr>\n",
              "      <th>3</th>\n",
              "      <td>8/6/15</td>\n",
              "      <td>2.38</td>\n",
              "      <td>NaN</td>\n",
              "    </tr>\n",
              "    <tr>\n",
              "      <th>4</th>\n",
              "      <td>8/7/15</td>\n",
              "      <td>2.30</td>\n",
              "      <td>NaN</td>\n",
              "    </tr>\n",
              "    <tr>\n",
              "      <th>5</th>\n",
              "      <td>8/8/15</td>\n",
              "      <td>3.40</td>\n",
              "      <td>NaN</td>\n",
              "    </tr>\n",
              "    <tr>\n",
              "      <th>6</th>\n",
              "      <td>8/9/15</td>\n",
              "      <td>2.50</td>\n",
              "      <td>NaN</td>\n",
              "    </tr>\n",
              "    <tr>\n",
              "      <th>7</th>\n",
              "      <td>8/10/15</td>\n",
              "      <td>3.36</td>\n",
              "      <td>0:28:37</td>\n",
              "    </tr>\n",
              "    <tr>\n",
              "      <th>8</th>\n",
              "      <td>8/11/15</td>\n",
              "      <td>1.67</td>\n",
              "      <td>0:13:07</td>\n",
              "    </tr>\n",
              "    <tr>\n",
              "      <th>9</th>\n",
              "      <td>8/12/15</td>\n",
              "      <td>1.42</td>\n",
              "      <td>0:10:35</td>\n",
              "    </tr>\n",
              "  </tbody>\n",
              "</table>\n",
              "</div>"
            ],
            "text/plain": [
              "      Data  Distancia    Tempo\n",
              "0   8/2/15       1.70      NaN\n",
              "1   8/3/15       1.40      NaN\n",
              "2   8/4/15       2.10      NaN\n",
              "3   8/6/15       2.38      NaN\n",
              "4   8/7/15       2.30      NaN\n",
              "5   8/8/15       3.40      NaN\n",
              "6   8/9/15       2.50      NaN\n",
              "7  8/10/15       3.36  0:28:37\n",
              "8  8/11/15       1.67  0:13:07\n",
              "9  8/12/15       1.42  0:10:35"
            ]
          },
          "metadata": {
            "tags": []
          },
          "execution_count": 4
        }
      ]
    },
    {
      "cell_type": "code",
      "metadata": {
        "id": "qze5PlilsoVr",
        "colab_type": "code",
        "outputId": "5d542569-d45f-4e65-dc69-48dd350651a3",
        "colab": {
          "base_uri": "https://localhost:8080/",
          "height": 85
        }
      },
      "source": [
        "# Check the data types\n",
        "data.dtypes"
      ],
      "execution_count": 6,
      "outputs": [
        {
          "output_type": "execute_result",
          "data": {
            "text/plain": [
              "Data          object\n",
              "Distancia    float64\n",
              "Tempo         object\n",
              "dtype: object"
            ]
          },
          "metadata": {
            "tags": []
          },
          "execution_count": 6
        }
      ]
    },
    {
      "cell_type": "markdown",
      "metadata": {
        "id": "_aXVUhhXetN7",
        "colab_type": "text"
      },
      "source": [
        "# Transform Data column as date type and setting as index"
      ]
    },
    {
      "cell_type": "code",
      "metadata": {
        "id": "FUJhZ5KKuBG7",
        "colab_type": "code",
        "colab": {}
      },
      "source": [
        "# Change the data type of Data column\n",
        "data['Data'] = pd.to_datetime(data.Data)"
      ],
      "execution_count": 0,
      "outputs": []
    },
    {
      "cell_type": "code",
      "metadata": {
        "id": "j7yxHTfWuPkd",
        "colab_type": "code",
        "outputId": "3a50169b-0a7b-4941-abb2-a5f89727f51a",
        "colab": {
          "base_uri": "https://localhost:8080/",
          "height": 85
        }
      },
      "source": [
        "# Check the data types again\n",
        "# Changed to datetime64[ns]\n",
        "data.dtypes"
      ],
      "execution_count": 8,
      "outputs": [
        {
          "output_type": "execute_result",
          "data": {
            "text/plain": [
              "Data         datetime64[ns]\n",
              "Distancia           float64\n",
              "Tempo                object\n",
              "dtype: object"
            ]
          },
          "metadata": {
            "tags": []
          },
          "execution_count": 8
        }
      ]
    },
    {
      "cell_type": "code",
      "metadata": {
        "id": "sJjen_5cuX-z",
        "colab_type": "code",
        "outputId": "58146d10-dae9-45ef-bf77-983517a3321e",
        "colab": {
          "base_uri": "https://localhost:8080/",
          "height": 359
        }
      },
      "source": [
        "# Looks OK\n",
        "data.head(10)"
      ],
      "execution_count": 9,
      "outputs": [
        {
          "output_type": "execute_result",
          "data": {
            "text/html": [
              "<div>\n",
              "<style scoped>\n",
              "    .dataframe tbody tr th:only-of-type {\n",
              "        vertical-align: middle;\n",
              "    }\n",
              "\n",
              "    .dataframe tbody tr th {\n",
              "        vertical-align: top;\n",
              "    }\n",
              "\n",
              "    .dataframe thead th {\n",
              "        text-align: right;\n",
              "    }\n",
              "</style>\n",
              "<table border=\"1\" class=\"dataframe\">\n",
              "  <thead>\n",
              "    <tr style=\"text-align: right;\">\n",
              "      <th></th>\n",
              "      <th>Data</th>\n",
              "      <th>Distancia</th>\n",
              "      <th>Tempo</th>\n",
              "    </tr>\n",
              "  </thead>\n",
              "  <tbody>\n",
              "    <tr>\n",
              "      <th>0</th>\n",
              "      <td>2015-08-02</td>\n",
              "      <td>1.70</td>\n",
              "      <td>NaN</td>\n",
              "    </tr>\n",
              "    <tr>\n",
              "      <th>1</th>\n",
              "      <td>2015-08-03</td>\n",
              "      <td>1.40</td>\n",
              "      <td>NaN</td>\n",
              "    </tr>\n",
              "    <tr>\n",
              "      <th>2</th>\n",
              "      <td>2015-08-04</td>\n",
              "      <td>2.10</td>\n",
              "      <td>NaN</td>\n",
              "    </tr>\n",
              "    <tr>\n",
              "      <th>3</th>\n",
              "      <td>2015-08-06</td>\n",
              "      <td>2.38</td>\n",
              "      <td>NaN</td>\n",
              "    </tr>\n",
              "    <tr>\n",
              "      <th>4</th>\n",
              "      <td>2015-08-07</td>\n",
              "      <td>2.30</td>\n",
              "      <td>NaN</td>\n",
              "    </tr>\n",
              "    <tr>\n",
              "      <th>5</th>\n",
              "      <td>2015-08-08</td>\n",
              "      <td>3.40</td>\n",
              "      <td>NaN</td>\n",
              "    </tr>\n",
              "    <tr>\n",
              "      <th>6</th>\n",
              "      <td>2015-08-09</td>\n",
              "      <td>2.50</td>\n",
              "      <td>NaN</td>\n",
              "    </tr>\n",
              "    <tr>\n",
              "      <th>7</th>\n",
              "      <td>2015-08-10</td>\n",
              "      <td>3.36</td>\n",
              "      <td>0:28:37</td>\n",
              "    </tr>\n",
              "    <tr>\n",
              "      <th>8</th>\n",
              "      <td>2015-08-11</td>\n",
              "      <td>1.67</td>\n",
              "      <td>0:13:07</td>\n",
              "    </tr>\n",
              "    <tr>\n",
              "      <th>9</th>\n",
              "      <td>2015-08-12</td>\n",
              "      <td>1.42</td>\n",
              "      <td>0:10:35</td>\n",
              "    </tr>\n",
              "  </tbody>\n",
              "</table>\n",
              "</div>"
            ],
            "text/plain": [
              "        Data  Distancia    Tempo\n",
              "0 2015-08-02       1.70      NaN\n",
              "1 2015-08-03       1.40      NaN\n",
              "2 2015-08-04       2.10      NaN\n",
              "3 2015-08-06       2.38      NaN\n",
              "4 2015-08-07       2.30      NaN\n",
              "5 2015-08-08       3.40      NaN\n",
              "6 2015-08-09       2.50      NaN\n",
              "7 2015-08-10       3.36  0:28:37\n",
              "8 2015-08-11       1.67  0:13:07\n",
              "9 2015-08-12       1.42  0:10:35"
            ]
          },
          "metadata": {
            "tags": []
          },
          "execution_count": 9
        }
      ]
    },
    {
      "cell_type": "code",
      "metadata": {
        "id": "V5JlO-WatQ9I",
        "colab_type": "code",
        "outputId": "abc083ce-3627-41fa-fd59-7504363d0011",
        "colab": {
          "base_uri": "https://localhost:8080/",
          "height": 34
        }
      },
      "source": [
        "# Check column names\n",
        "data.columns"
      ],
      "execution_count": 10,
      "outputs": [
        {
          "output_type": "execute_result",
          "data": {
            "text/plain": [
              "Index(['Data', 'Distancia', 'Tempo'], dtype='object')"
            ]
          },
          "metadata": {
            "tags": []
          },
          "execution_count": 10
        }
      ]
    },
    {
      "cell_type": "code",
      "metadata": {
        "id": "_MJApYuAtTqR",
        "colab_type": "code",
        "outputId": "9df99873-0d59-45fe-81af-5dcd81f20e20",
        "colab": {
          "base_uri": "https://localhost:8080/",
          "height": 34
        }
      },
      "source": [
        "# Check the index\n",
        "data.index"
      ],
      "execution_count": 11,
      "outputs": [
        {
          "output_type": "execute_result",
          "data": {
            "text/plain": [
              "RangeIndex(start=0, stop=81, step=1)"
            ]
          },
          "metadata": {
            "tags": []
          },
          "execution_count": 11
        }
      ]
    },
    {
      "cell_type": "code",
      "metadata": {
        "id": "77408F5Outg9",
        "colab_type": "code",
        "colab": {}
      },
      "source": [
        "# Setting column Data as index\n",
        "data.set_index('Data',inplace=True)"
      ],
      "execution_count": 0,
      "outputs": []
    },
    {
      "cell_type": "code",
      "metadata": {
        "id": "6z6LJMTOebQL",
        "colab_type": "code",
        "colab": {
          "base_uri": "https://localhost:8080/",
          "height": 390
        },
        "outputId": "d49b32ea-3312-404f-fffb-4143604db780"
      },
      "source": [
        "# Check the data\n",
        "data.head(10)"
      ],
      "execution_count": 13,
      "outputs": [
        {
          "output_type": "execute_result",
          "data": {
            "text/html": [
              "<div>\n",
              "<style scoped>\n",
              "    .dataframe tbody tr th:only-of-type {\n",
              "        vertical-align: middle;\n",
              "    }\n",
              "\n",
              "    .dataframe tbody tr th {\n",
              "        vertical-align: top;\n",
              "    }\n",
              "\n",
              "    .dataframe thead th {\n",
              "        text-align: right;\n",
              "    }\n",
              "</style>\n",
              "<table border=\"1\" class=\"dataframe\">\n",
              "  <thead>\n",
              "    <tr style=\"text-align: right;\">\n",
              "      <th></th>\n",
              "      <th>Distancia</th>\n",
              "      <th>Tempo</th>\n",
              "    </tr>\n",
              "    <tr>\n",
              "      <th>Data</th>\n",
              "      <th></th>\n",
              "      <th></th>\n",
              "    </tr>\n",
              "  </thead>\n",
              "  <tbody>\n",
              "    <tr>\n",
              "      <th>2015-08-02</th>\n",
              "      <td>1.70</td>\n",
              "      <td>NaN</td>\n",
              "    </tr>\n",
              "    <tr>\n",
              "      <th>2015-08-03</th>\n",
              "      <td>1.40</td>\n",
              "      <td>NaN</td>\n",
              "    </tr>\n",
              "    <tr>\n",
              "      <th>2015-08-04</th>\n",
              "      <td>2.10</td>\n",
              "      <td>NaN</td>\n",
              "    </tr>\n",
              "    <tr>\n",
              "      <th>2015-08-06</th>\n",
              "      <td>2.38</td>\n",
              "      <td>NaN</td>\n",
              "    </tr>\n",
              "    <tr>\n",
              "      <th>2015-08-07</th>\n",
              "      <td>2.30</td>\n",
              "      <td>NaN</td>\n",
              "    </tr>\n",
              "    <tr>\n",
              "      <th>2015-08-08</th>\n",
              "      <td>3.40</td>\n",
              "      <td>NaN</td>\n",
              "    </tr>\n",
              "    <tr>\n",
              "      <th>2015-08-09</th>\n",
              "      <td>2.50</td>\n",
              "      <td>NaN</td>\n",
              "    </tr>\n",
              "    <tr>\n",
              "      <th>2015-08-10</th>\n",
              "      <td>3.36</td>\n",
              "      <td>0:28:37</td>\n",
              "    </tr>\n",
              "    <tr>\n",
              "      <th>2015-08-11</th>\n",
              "      <td>1.67</td>\n",
              "      <td>0:13:07</td>\n",
              "    </tr>\n",
              "    <tr>\n",
              "      <th>2015-08-12</th>\n",
              "      <td>1.42</td>\n",
              "      <td>0:10:35</td>\n",
              "    </tr>\n",
              "  </tbody>\n",
              "</table>\n",
              "</div>"
            ],
            "text/plain": [
              "            Distancia    Tempo\n",
              "Data                          \n",
              "2015-08-02       1.70      NaN\n",
              "2015-08-03       1.40      NaN\n",
              "2015-08-04       2.10      NaN\n",
              "2015-08-06       2.38      NaN\n",
              "2015-08-07       2.30      NaN\n",
              "2015-08-08       3.40      NaN\n",
              "2015-08-09       2.50      NaN\n",
              "2015-08-10       3.36  0:28:37\n",
              "2015-08-11       1.67  0:13:07\n",
              "2015-08-12       1.42  0:10:35"
            ]
          },
          "metadata": {
            "tags": []
          },
          "execution_count": 13
        }
      ]
    },
    {
      "cell_type": "markdown",
      "metadata": {
        "id": "fi0jQWJWfCcT",
        "colab_type": "text"
      },
      "source": [
        "# Making some plots to visualizing the data"
      ]
    },
    {
      "cell_type": "code",
      "metadata": {
        "id": "0nO9ghicejMo",
        "colab_type": "code",
        "colab": {
          "base_uri": "https://localhost:8080/",
          "height": 294
        },
        "outputId": "3558d0d0-69f7-44e8-c9d8-0c76a998aafe"
      },
      "source": [
        "# The plot identifies the Data as index and automatically sets the data as \n",
        "# axis-x\n",
        "data.plot()"
      ],
      "execution_count": 18,
      "outputs": [
        {
          "output_type": "execute_result",
          "data": {
            "text/plain": [
              "<matplotlib.axes._subplots.AxesSubplot at 0x7fcbcb80b048>"
            ]
          },
          "metadata": {
            "tags": []
          },
          "execution_count": 18
        },
        {
          "output_type": "display_data",
          "data": {
            "image/png": "[encoded data removed]",
            "text/plain": [
              "<Figure size 432x288 with 1 Axes>"
            ]
          },
          "metadata": {
            "tags": [],
            "needs_background": "light"
          }
        }
      ]
    },
    {
      "cell_type": "code",
      "metadata": {
        "id": "b9KDLPnbfyQz",
        "colab_type": "code",
        "colab": {}
      },
      "source": [
        "# Check help\n",
        "?data.plot()"
      ],
      "execution_count": 0,
      "outputs": []
    },
    {
      "cell_type": "code",
      "metadata": {
        "id": "UEGXc-zvgMfZ",
        "colab_type": "code",
        "colab": {
          "base_uri": "https://localhost:8080/",
          "height": 294
        },
        "outputId": "beb28f79-f235-4c2c-b066-8911af8b973c"
      },
      "source": [
        "# Change de kind to area plot\n",
        "plt = data.plot(kind='area')\n",
        "plt.set_ylabel('Count')"
      ],
      "execution_count": 34,
      "outputs": [
        {
          "output_type": "execute_result",
          "data": {
            "text/plain": [
              "Text(0, 0.5, 'Count')"
            ]
          },
          "metadata": {
            "tags": []
          },
          "execution_count": 34
        },
        {
          "output_type": "display_data",
          "data": {
            "image/png": "[encoded data removed]",
            "text/plain": [
              "<Figure size 432x288 with 1 Axes>"
            ]
          },
          "metadata": {
            "tags": [],
            "needs_background": "light"
          }
        }
      ]
    },
    {
      "cell_type": "markdown",
      "metadata": {
        "id": "JSHx5jBfiO0E",
        "colab_type": "text"
      },
      "source": [
        "# Describe the measures of data"
      ]
    },
    {
      "cell_type": "code",
      "metadata": {
        "id": "ZnTT_3clgUXG",
        "colab_type": "code",
        "colab": {
          "base_uri": "https://localhost:8080/",
          "height": 297
        },
        "outputId": "f00bb078-a1f6-48c8-9ac8-99c2eafcd8e2"
      },
      "source": [
        "data.describe()"
      ],
      "execution_count": 35,
      "outputs": [
        {
          "output_type": "execute_result",
          "data": {
            "text/html": [
              "<div>\n",
              "<style scoped>\n",
              "    .dataframe tbody tr th:only-of-type {\n",
              "        vertical-align: middle;\n",
              "    }\n",
              "\n",
              "    .dataframe tbody tr th {\n",
              "        vertical-align: top;\n",
              "    }\n",
              "\n",
              "    .dataframe thead th {\n",
              "        text-align: right;\n",
              "    }\n",
              "</style>\n",
              "<table border=\"1\" class=\"dataframe\">\n",
              "  <thead>\n",
              "    <tr style=\"text-align: right;\">\n",
              "      <th></th>\n",
              "      <th>Distancia</th>\n",
              "    </tr>\n",
              "  </thead>\n",
              "  <tbody>\n",
              "    <tr>\n",
              "      <th>count</th>\n",
              "      <td>81.000000</td>\n",
              "    </tr>\n",
              "    <tr>\n",
              "      <th>mean</th>\n",
              "      <td>3.137531</td>\n",
              "    </tr>\n",
              "    <tr>\n",
              "      <th>std</th>\n",
              "      <td>3.634519</td>\n",
              "    </tr>\n",
              "    <tr>\n",
              "      <th>min</th>\n",
              "      <td>0.650000</td>\n",
              "    </tr>\n",
              "    <tr>\n",
              "      <th>25%</th>\n",
              "      <td>1.370000</td>\n",
              "    </tr>\n",
              "    <tr>\n",
              "      <th>50%</th>\n",
              "      <td>2.100000</td>\n",
              "    </tr>\n",
              "    <tr>\n",
              "      <th>75%</th>\n",
              "      <td>3.050000</td>\n",
              "    </tr>\n",
              "    <tr>\n",
              "      <th>max</th>\n",
              "      <td>26.200000</td>\n",
              "    </tr>\n",
              "  </tbody>\n",
              "</table>\n",
              "</div>"
            ],
            "text/plain": [
              "       Distancia\n",
              "count  81.000000\n",
              "mean    3.137531\n",
              "std     3.634519\n",
              "min     0.650000\n",
              "25%     1.370000\n",
              "50%     2.100000\n",
              "75%     3.050000\n",
              "max    26.200000"
            ]
          },
          "metadata": {
            "tags": []
          },
          "execution_count": 35
        }
      ]
    },
    {
      "cell_type": "markdown",
      "metadata": {
        "id": "y5zSlZtBis9p",
        "colab_type": "text"
      },
      "source": [
        "# Making some slices"
      ]
    },
    {
      "cell_type": "code",
      "metadata": {
        "id": "2F6Cdh6wiyuT",
        "colab_type": "code",
        "colab": {
          "base_uri": "https://localhost:8080/",
          "height": 483
        },
        "outputId": "469078d4-a00f-4ef9-9e09-65f51c738b79"
      },
      "source": [
        "# Searching by year of 2015 and month 11\n",
        "data['2015-11']"
      ],
      "execution_count": 40,
      "outputs": [
        {
          "output_type": "execute_result",
          "data": {
            "text/html": [
              "<div>\n",
              "<style scoped>\n",
              "    .dataframe tbody tr th:only-of-type {\n",
              "        vertical-align: middle;\n",
              "    }\n",
              "\n",
              "    .dataframe tbody tr th {\n",
              "        vertical-align: top;\n",
              "    }\n",
              "\n",
              "    .dataframe thead th {\n",
              "        text-align: right;\n",
              "    }\n",
              "</style>\n",
              "<table border=\"1\" class=\"dataframe\">\n",
              "  <thead>\n",
              "    <tr style=\"text-align: right;\">\n",
              "      <th></th>\n",
              "      <th>Distancia</th>\n",
              "      <th>Tempo</th>\n",
              "    </tr>\n",
              "    <tr>\n",
              "      <th>Data</th>\n",
              "      <th></th>\n",
              "      <th></th>\n",
              "    </tr>\n",
              "  </thead>\n",
              "  <tbody>\n",
              "    <tr>\n",
              "      <th>2015-11-02</th>\n",
              "      <td>1.37</td>\n",
              "      <td>0:08:43</td>\n",
              "    </tr>\n",
              "    <tr>\n",
              "      <th>2015-11-03</th>\n",
              "      <td>5.30</td>\n",
              "      <td>0:39:26</td>\n",
              "    </tr>\n",
              "    <tr>\n",
              "      <th>2015-11-04</th>\n",
              "      <td>3.05</td>\n",
              "      <td>0:22:12</td>\n",
              "    </tr>\n",
              "    <tr>\n",
              "      <th>2015-11-07</th>\n",
              "      <td>5.63</td>\n",
              "      <td>0:49:05</td>\n",
              "    </tr>\n",
              "    <tr>\n",
              "      <th>2015-11-07</th>\n",
              "      <td>1.26</td>\n",
              "      <td>NaN</td>\n",
              "    </tr>\n",
              "    <tr>\n",
              "      <th>2015-11-07</th>\n",
              "      <td>1.20</td>\n",
              "      <td>NaN</td>\n",
              "    </tr>\n",
              "    <tr>\n",
              "      <th>2015-11-09</th>\n",
              "      <td>3.05</td>\n",
              "      <td>0:22:36</td>\n",
              "    </tr>\n",
              "    <tr>\n",
              "      <th>2015-11-10</th>\n",
              "      <td>1.50</td>\n",
              "      <td>0:09:00</td>\n",
              "    </tr>\n",
              "    <tr>\n",
              "      <th>2015-11-10</th>\n",
              "      <td>1.50</td>\n",
              "      <td>0:11:33</td>\n",
              "    </tr>\n",
              "    <tr>\n",
              "      <th>2015-11-10</th>\n",
              "      <td>4.00</td>\n",
              "      <td>NaN</td>\n",
              "    </tr>\n",
              "    <tr>\n",
              "      <th>2015-11-23</th>\n",
              "      <td>3.05</td>\n",
              "      <td>0:22:35</td>\n",
              "    </tr>\n",
              "    <tr>\n",
              "      <th>2015-11-27</th>\n",
              "      <td>1.00</td>\n",
              "      <td>NaN</td>\n",
              "    </tr>\n",
              "    <tr>\n",
              "      <th>2015-11-28</th>\n",
              "      <td>3.00</td>\n",
              "      <td>NaN</td>\n",
              "    </tr>\n",
              "  </tbody>\n",
              "</table>\n",
              "</div>"
            ],
            "text/plain": [
              "            Distancia    Tempo\n",
              "Data                          \n",
              "2015-11-02       1.37  0:08:43\n",
              "2015-11-03       5.30  0:39:26\n",
              "2015-11-04       3.05  0:22:12\n",
              "2015-11-07       5.63  0:49:05\n",
              "2015-11-07       1.26      NaN\n",
              "2015-11-07       1.20      NaN\n",
              "2015-11-09       3.05  0:22:36\n",
              "2015-11-10       1.50  0:09:00\n",
              "2015-11-10       1.50  0:11:33\n",
              "2015-11-10       4.00      NaN\n",
              "2015-11-23       3.05  0:22:35\n",
              "2015-11-27       1.00      NaN\n",
              "2015-11-28       3.00      NaN"
            ]
          },
          "metadata": {
            "tags": []
          },
          "execution_count": 40
        }
      ]
    },
    {
      "cell_type": "code",
      "metadata": {
        "id": "A-euwMOni9Qf",
        "colab_type": "code",
        "colab": {
          "base_uri": "https://localhost:8080/",
          "height": 34
        },
        "outputId": "b37be225-365c-4aad-bd56-9c789e58ac41"
      },
      "source": [
        "# Lenght of slice\n",
        "len(data['2015-11'])"
      ],
      "execution_count": 39,
      "outputs": [
        {
          "output_type": "execute_result",
          "data": {
            "text/plain": [
              "13"
            ]
          },
          "metadata": {
            "tags": []
          },
          "execution_count": 39
        }
      ]
    },
    {
      "cell_type": "markdown",
      "metadata": {
        "id": "D1jBOYN9jb5_",
        "colab_type": "text"
      },
      "source": [
        "# Saving data as csv"
      ]
    },
    {
      "cell_type": "code",
      "metadata": {
        "id": "3LJLjHwfjeSl",
        "colab_type": "code",
        "colab": {}
      },
      "source": [
        "data.to_csv('/content/drive/My Drive/Colab Notebooks/04_study_case_eda_bike_taxi_nyc/data/taxis_bikes_nycity_changed_v1.csv')"
      ],
      "execution_count": 0,
      "outputs": []
    }
  ]
}