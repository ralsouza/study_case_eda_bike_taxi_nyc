{
  "nbformat": 4,
  "nbformat_minor": 0,
  "metadata": {
    "colab": {
      "name": "02_eda_bike_taxis_nyc.ipynb.ipynb",
      "provenance": [],
      "collapsed_sections": [],
      "mount_file_id": "1WMuDfyrPRgiH__6e4ATMcGjW39Kfa4vB",
      "authorship_tag": "ABX9TyO0IZWvcdjCZ/kfbvf+P2He",
      "include_colab_link": true
    },
    "kernelspec": {
      "name": "python3",
      "display_name": "Python 3"
    }
  },
  "cells": [
    {
      "cell_type": "markdown",
      "metadata": {
        "id": "view-in-github",
        "colab_type": "text"
      },
      "source": [
        "<a href=\"https://colab.research.google.com/github/ralsouza/study_case_eda_bike_taxi_nyc/blob/master/notebooks/02_eda_bike_taxis_nyc_ipynb.ipynb\" target=\"_parent\"><img src=\"https://colab.research.google.com/assets/colab-badge.svg\" alt=\"Open In Colab\"/></a>"
      ]
    },
    {
      "cell_type": "code",
      "metadata": {
        "id": "saiviW-7lyBk",
        "colab_type": "code",
        "colab": {}
      },
      "source": [
        "import pandas as pd\n",
        "import numpy as np\n",
        "import matplotlib.pyplot as plt\n",
        "%matplotlib inline"
      ],
      "execution_count": 0,
      "outputs": []
    },
    {
      "cell_type": "markdown",
      "metadata": {
        "id": "fR8TNQ_ymLkE",
        "colab_type": "text"
      },
      "source": [
        "# Load saved data"
      ]
    },
    {
      "cell_type": "code",
      "metadata": {
        "id": "amqmmXuimN0k",
        "colab_type": "code",
        "colab": {}
      },
      "source": [
        "data = pd.read_csv('/content/drive/My Drive/Colab Notebooks/04_study_case_eda_bike_taxi_nyc/data/taxis_bikes_nycity_changed_v1.csv')"
      ],
      "execution_count": 0,
      "outputs": []
    },
    {
      "cell_type": "markdown",
      "metadata": {
        "id": "E1PPdxEnmlYH",
        "colab_type": "text"
      },
      "source": [
        "# Check loaded data"
      ]
    },
    {
      "cell_type": "code",
      "metadata": {
        "id": "7fo7qcmamnS6",
        "colab_type": "code",
        "colab": {
          "base_uri": "https://localhost:8080/",
          "height": 204
        },
        "outputId": "2b10c138-1849-4f7c-8ed1-e83d2f931e2e"
      },
      "source": [
        "data.head()"
      ],
      "execution_count": 3,
      "outputs": [
        {
          "output_type": "execute_result",
          "data": {
            "text/html": [
              "<div>\n",
              "<style scoped>\n",
              "    .dataframe tbody tr th:only-of-type {\n",
              "        vertical-align: middle;\n",
              "    }\n",
              "\n",
              "    .dataframe tbody tr th {\n",
              "        vertical-align: top;\n",
              "    }\n",
              "\n",
              "    .dataframe thead th {\n",
              "        text-align: right;\n",
              "    }\n",
              "</style>\n",
              "<table border=\"1\" class=\"dataframe\">\n",
              "  <thead>\n",
              "    <tr style=\"text-align: right;\">\n",
              "      <th></th>\n",
              "      <th>Data</th>\n",
              "      <th>Distancia</th>\n",
              "      <th>Tempo</th>\n",
              "    </tr>\n",
              "  </thead>\n",
              "  <tbody>\n",
              "    <tr>\n",
              "      <th>0</th>\n",
              "      <td>2015-08-02</td>\n",
              "      <td>1.70</td>\n",
              "      <td>NaN</td>\n",
              "    </tr>\n",
              "    <tr>\n",
              "      <th>1</th>\n",
              "      <td>2015-08-03</td>\n",
              "      <td>1.40</td>\n",
              "      <td>NaN</td>\n",
              "    </tr>\n",
              "    <tr>\n",
              "      <th>2</th>\n",
              "      <td>2015-08-04</td>\n",
              "      <td>2.10</td>\n",
              "      <td>NaN</td>\n",
              "    </tr>\n",
              "    <tr>\n",
              "      <th>3</th>\n",
              "      <td>2015-08-06</td>\n",
              "      <td>2.38</td>\n",
              "      <td>NaN</td>\n",
              "    </tr>\n",
              "    <tr>\n",
              "      <th>4</th>\n",
              "      <td>2015-08-07</td>\n",
              "      <td>2.30</td>\n",
              "      <td>NaN</td>\n",
              "    </tr>\n",
              "  </tbody>\n",
              "</table>\n",
              "</div>"
            ],
            "text/plain": [
              "         Data  Distancia Tempo\n",
              "0  2015-08-02       1.70   NaN\n",
              "1  2015-08-03       1.40   NaN\n",
              "2  2015-08-04       2.10   NaN\n",
              "3  2015-08-06       2.38   NaN\n",
              "4  2015-08-07       2.30   NaN"
            ]
          },
          "metadata": {
            "tags": []
          },
          "execution_count": 3
        }
      ]
    },
    {
      "cell_type": "markdown",
      "metadata": {
        "id": "L00GP284mwUT",
        "colab_type": "text"
      },
      "source": [
        "the setting index is gone!!!"
      ]
    },
    {
      "cell_type": "code",
      "metadata": {
        "id": "dTuXDJaOmyzf",
        "colab_type": "code",
        "colab": {
          "base_uri": "https://localhost:8080/",
          "height": 85
        },
        "outputId": "63e287c9-15c4-44b8-8a3c-a01cd0dc6e2d"
      },
      "source": [
        "data.dtypes"
      ],
      "execution_count": 5,
      "outputs": [
        {
          "output_type": "execute_result",
          "data": {
            "text/plain": [
              "Data          object\n",
              "Distancia    float64\n",
              "Tempo         object\n",
              "dtype: object"
            ]
          },
          "metadata": {
            "tags": []
          },
          "execution_count": 5
        }
      ]
    },
    {
      "cell_type": "markdown",
      "metadata": {
        "id": "29eLr0O_m_xJ",
        "colab_type": "text"
      },
      "source": [
        "The column Data returned as `object` data type."
      ]
    },
    {
      "cell_type": "markdown",
      "metadata": {
        "id": "gz7ZXOd4nunR",
        "colab_type": "text"
      },
      "source": [
        "# Load saved data again and doing some transformations\n",
        "We will use the command to convert the date column to date type.\n"
      ]
    },
    {
      "cell_type": "code",
      "metadata": {
        "id": "xQjA7rXanwU2",
        "colab_type": "code",
        "colab": {}
      },
      "source": [
        "data = pd.read_csv('/content/drive/My Drive/Colab Notebooks/04_study_case_eda_bike_taxi_nyc/data/taxis_bikes_nycity_changed_v1.csv'\n",
        "                  ,parse_dates=['Data'])"
      ],
      "execution_count": 0,
      "outputs": []
    },
    {
      "cell_type": "code",
      "metadata": {
        "id": "lpO-mEHxoMcV",
        "colab_type": "code",
        "colab": {
          "base_uri": "https://localhost:8080/",
          "height": 204
        },
        "outputId": "b2cb9dae-0b23-4753-d69a-442aa3d617b9"
      },
      "source": [
        "data.head()"
      ],
      "execution_count": 20,
      "outputs": [
        {
          "output_type": "execute_result",
          "data": {
            "text/html": [
              "<div>\n",
              "<style scoped>\n",
              "    .dataframe tbody tr th:only-of-type {\n",
              "        vertical-align: middle;\n",
              "    }\n",
              "\n",
              "    .dataframe tbody tr th {\n",
              "        vertical-align: top;\n",
              "    }\n",
              "\n",
              "    .dataframe thead th {\n",
              "        text-align: right;\n",
              "    }\n",
              "</style>\n",
              "<table border=\"1\" class=\"dataframe\">\n",
              "  <thead>\n",
              "    <tr style=\"text-align: right;\">\n",
              "      <th></th>\n",
              "      <th>Data</th>\n",
              "      <th>Distancia</th>\n",
              "      <th>Tempo</th>\n",
              "    </tr>\n",
              "  </thead>\n",
              "  <tbody>\n",
              "    <tr>\n",
              "      <th>0</th>\n",
              "      <td>2015-08-02</td>\n",
              "      <td>1.70</td>\n",
              "      <td>NaN</td>\n",
              "    </tr>\n",
              "    <tr>\n",
              "      <th>1</th>\n",
              "      <td>2015-08-03</td>\n",
              "      <td>1.40</td>\n",
              "      <td>NaN</td>\n",
              "    </tr>\n",
              "    <tr>\n",
              "      <th>2</th>\n",
              "      <td>2015-08-04</td>\n",
              "      <td>2.10</td>\n",
              "      <td>NaN</td>\n",
              "    </tr>\n",
              "    <tr>\n",
              "      <th>3</th>\n",
              "      <td>2015-08-06</td>\n",
              "      <td>2.38</td>\n",
              "      <td>NaN</td>\n",
              "    </tr>\n",
              "    <tr>\n",
              "      <th>4</th>\n",
              "      <td>2015-08-07</td>\n",
              "      <td>2.30</td>\n",
              "      <td>NaN</td>\n",
              "    </tr>\n",
              "  </tbody>\n",
              "</table>\n",
              "</div>"
            ],
            "text/plain": [
              "        Data  Distancia Tempo\n",
              "0 2015-08-02       1.70   NaN\n",
              "1 2015-08-03       1.40   NaN\n",
              "2 2015-08-04       2.10   NaN\n",
              "3 2015-08-06       2.38   NaN\n",
              "4 2015-08-07       2.30   NaN"
            ]
          },
          "metadata": {
            "tags": []
          },
          "execution_count": 20
        }
      ]
    },
    {
      "cell_type": "code",
      "metadata": {
        "id": "RA2o7RTYoTjF",
        "colab_type": "code",
        "colab": {
          "base_uri": "https://localhost:8080/",
          "height": 85
        },
        "outputId": "de1f9645-25f4-40d1-dc3f-ef3aeb114b4f"
      },
      "source": [
        "data.dtypes # Now yes"
      ],
      "execution_count": 21,
      "outputs": [
        {
          "output_type": "execute_result",
          "data": {
            "text/plain": [
              "Data         datetime64[ns]\n",
              "Distancia           float64\n",
              "Tempo                object\n",
              "dtype: object"
            ]
          },
          "metadata": {
            "tags": []
          },
          "execution_count": 21
        }
      ]
    },
    {
      "cell_type": "code",
      "metadata": {
        "id": "jlfHCJk4o_TG",
        "colab_type": "code",
        "colab": {}
      },
      "source": [
        "# Changing the column names\n",
        "data.columns = ['Date','Distance','Time']"
      ],
      "execution_count": 0,
      "outputs": []
    },
    {
      "cell_type": "code",
      "metadata": {
        "id": "OnjH01oXpU-M",
        "colab_type": "code",
        "colab": {
          "base_uri": "https://localhost:8080/",
          "height": 204
        },
        "outputId": "e9be0c2d-5ae4-4334-db2a-a96801844e7d"
      },
      "source": [
        "# Check the data\n",
        "data.head()"
      ],
      "execution_count": 23,
      "outputs": [
        {
          "output_type": "execute_result",
          "data": {
            "text/html": [
              "<div>\n",
              "<style scoped>\n",
              "    .dataframe tbody tr th:only-of-type {\n",
              "        vertical-align: middle;\n",
              "    }\n",
              "\n",
              "    .dataframe tbody tr th {\n",
              "        vertical-align: top;\n",
              "    }\n",
              "\n",
              "    .dataframe thead th {\n",
              "        text-align: right;\n",
              "    }\n",
              "</style>\n",
              "<table border=\"1\" class=\"dataframe\">\n",
              "  <thead>\n",
              "    <tr style=\"text-align: right;\">\n",
              "      <th></th>\n",
              "      <th>Date</th>\n",
              "      <th>Distance</th>\n",
              "      <th>Time</th>\n",
              "    </tr>\n",
              "  </thead>\n",
              "  <tbody>\n",
              "    <tr>\n",
              "      <th>0</th>\n",
              "      <td>2015-08-02</td>\n",
              "      <td>1.70</td>\n",
              "      <td>NaN</td>\n",
              "    </tr>\n",
              "    <tr>\n",
              "      <th>1</th>\n",
              "      <td>2015-08-03</td>\n",
              "      <td>1.40</td>\n",
              "      <td>NaN</td>\n",
              "    </tr>\n",
              "    <tr>\n",
              "      <th>2</th>\n",
              "      <td>2015-08-04</td>\n",
              "      <td>2.10</td>\n",
              "      <td>NaN</td>\n",
              "    </tr>\n",
              "    <tr>\n",
              "      <th>3</th>\n",
              "      <td>2015-08-06</td>\n",
              "      <td>2.38</td>\n",
              "      <td>NaN</td>\n",
              "    </tr>\n",
              "    <tr>\n",
              "      <th>4</th>\n",
              "      <td>2015-08-07</td>\n",
              "      <td>2.30</td>\n",
              "      <td>NaN</td>\n",
              "    </tr>\n",
              "  </tbody>\n",
              "</table>\n",
              "</div>"
            ],
            "text/plain": [
              "        Date  Distance Time\n",
              "0 2015-08-02      1.70  NaN\n",
              "1 2015-08-03      1.40  NaN\n",
              "2 2015-08-04      2.10  NaN\n",
              "3 2015-08-06      2.38  NaN\n",
              "4 2015-08-07      2.30  NaN"
            ]
          },
          "metadata": {
            "tags": []
          },
          "execution_count": 23
        }
      ]
    },
    {
      "cell_type": "code",
      "metadata": {
        "id": "x3v9vKonoU3_",
        "colab_type": "code",
        "colab": {}
      },
      "source": [
        "# Setting the Date column as index again\n",
        "data.set_index('Date', inplace=True)"
      ],
      "execution_count": 0,
      "outputs": []
    },
    {
      "cell_type": "code",
      "metadata": {
        "id": "obpK0tbzo8eQ",
        "colab_type": "code",
        "colab": {
          "base_uri": "https://localhost:8080/",
          "height": 390
        },
        "outputId": "caab0e94-9736-4c3e-9393-a5d15fe69f66"
      },
      "source": [
        "# Check modified data\n",
        "data.head(10)"
      ],
      "execution_count": 26,
      "outputs": [
        {
          "output_type": "execute_result",
          "data": {
            "text/html": [
              "<div>\n",
              "<style scoped>\n",
              "    .dataframe tbody tr th:only-of-type {\n",
              "        vertical-align: middle;\n",
              "    }\n",
              "\n",
              "    .dataframe tbody tr th {\n",
              "        vertical-align: top;\n",
              "    }\n",
              "\n",
              "    .dataframe thead th {\n",
              "        text-align: right;\n",
              "    }\n",
              "</style>\n",
              "<table border=\"1\" class=\"dataframe\">\n",
              "  <thead>\n",
              "    <tr style=\"text-align: right;\">\n",
              "      <th></th>\n",
              "      <th>Distance</th>\n",
              "      <th>Time</th>\n",
              "    </tr>\n",
              "    <tr>\n",
              "      <th>Date</th>\n",
              "      <th></th>\n",
              "      <th></th>\n",
              "    </tr>\n",
              "  </thead>\n",
              "  <tbody>\n",
              "    <tr>\n",
              "      <th>2015-08-02</th>\n",
              "      <td>1.70</td>\n",
              "      <td>NaN</td>\n",
              "    </tr>\n",
              "    <tr>\n",
              "      <th>2015-08-03</th>\n",
              "      <td>1.40</td>\n",
              "      <td>NaN</td>\n",
              "    </tr>\n",
              "    <tr>\n",
              "      <th>2015-08-04</th>\n",
              "      <td>2.10</td>\n",
              "      <td>NaN</td>\n",
              "    </tr>\n",
              "    <tr>\n",
              "      <th>2015-08-06</th>\n",
              "      <td>2.38</td>\n",
              "      <td>NaN</td>\n",
              "    </tr>\n",
              "    <tr>\n",
              "      <th>2015-08-07</th>\n",
              "      <td>2.30</td>\n",
              "      <td>NaN</td>\n",
              "    </tr>\n",
              "    <tr>\n",
              "      <th>2015-08-08</th>\n",
              "      <td>3.40</td>\n",
              "      <td>NaN</td>\n",
              "    </tr>\n",
              "    <tr>\n",
              "      <th>2015-08-09</th>\n",
              "      <td>2.50</td>\n",
              "      <td>NaN</td>\n",
              "    </tr>\n",
              "    <tr>\n",
              "      <th>2015-08-10</th>\n",
              "      <td>3.36</td>\n",
              "      <td>0:28:37</td>\n",
              "    </tr>\n",
              "    <tr>\n",
              "      <th>2015-08-11</th>\n",
              "      <td>1.67</td>\n",
              "      <td>0:13:07</td>\n",
              "    </tr>\n",
              "    <tr>\n",
              "      <th>2015-08-12</th>\n",
              "      <td>1.42</td>\n",
              "      <td>0:10:35</td>\n",
              "    </tr>\n",
              "  </tbody>\n",
              "</table>\n",
              "</div>"
            ],
            "text/plain": [
              "            Distance     Time\n",
              "Date                         \n",
              "2015-08-02      1.70      NaN\n",
              "2015-08-03      1.40      NaN\n",
              "2015-08-04      2.10      NaN\n",
              "2015-08-06      2.38      NaN\n",
              "2015-08-07      2.30      NaN\n",
              "2015-08-08      3.40      NaN\n",
              "2015-08-09      2.50      NaN\n",
              "2015-08-10      3.36  0:28:37\n",
              "2015-08-11      1.67  0:13:07\n",
              "2015-08-12      1.42  0:10:35"
            ]
          },
          "metadata": {
            "tags": []
          },
          "execution_count": 26
        }
      ]
    },
    {
      "cell_type": "markdown",
      "metadata": {
        "id": "E5uAlmMypszc",
        "colab_type": "text"
      },
      "source": [
        "# Visualizing data"
      ]
    },
    {
      "cell_type": "code",
      "metadata": {
        "id": "Jkb8dquspwwJ",
        "colab_type": "code",
        "colab": {
          "base_uri": "https://localhost:8080/",
          "height": 294
        },
        "outputId": "e0a06721-6739-4952-908d-6fc238578cb3"
      },
      "source": [
        "data.plot()"
      ],
      "execution_count": 27,
      "outputs": [
        {
          "output_type": "execute_result",
          "data": {
            "text/plain": [
              "<matplotlib.axes._subplots.AxesSubplot at 0x7fe34b631390>"
            ]
          },
          "metadata": {
            "tags": []
          },
          "execution_count": 27
        },
        {
          "output_type": "display_data",
          "data": {
            "image/png": "[encoded data removed]",
            "text/plain": [
              "<Figure size 432x288 with 1 Axes>"
            ]
          },
          "metadata": {
            "tags": [],
            "needs_background": "light"
          }
        }
      ]
    },
    {
      "cell_type": "markdown",
      "metadata": {
        "id": "fjhMubb_r3Lg",
        "colab_type": "text"
      },
      "source": [
        "# Making some transformations"
      ]
    },
    {
      "cell_type": "code",
      "metadata": {
        "id": "KwZrwUETr5XI",
        "colab_type": "code",
        "colab": {}
      },
      "source": [
        "# Making a function to convert the Time to seconds\n",
        "def calc_secs(time):\n",
        "  if time is np.nan:\n",
        "    return np.nan\n",
        "  hrs, mins, seconds = str(time).split(':')\n",
        "  seconds = int(seconds) + 60 * int(mins) + 60 * 60 * int(hrs)\n",
        "  return seconds"
      ],
      "execution_count": 0,
      "outputs": []
    },
    {
      "cell_type": "code",
      "metadata": {
        "id": "3YajvgnJslT0",
        "colab_type": "code",
        "colab": {}
      },
      "source": [
        "# Apply this function to a new column\n",
        "data['seconds'] = data.Time.map(calc_secs)"
      ],
      "execution_count": 0,
      "outputs": []
    },
    {
      "cell_type": "code",
      "metadata": {
        "id": "4BYswK0dsyea",
        "colab_type": "code",
        "colab": {
          "base_uri": "https://localhost:8080/",
          "height": 390
        },
        "outputId": "0bed6a76-3ac9-4eef-b2d5-18256ffcc70b"
      },
      "source": [
        "data.head(10)"
      ],
      "execution_count": 30,
      "outputs": [
        {
          "output_type": "execute_result",
          "data": {
            "text/html": [
              "<div>\n",
              "<style scoped>\n",
              "    .dataframe tbody tr th:only-of-type {\n",
              "        vertical-align: middle;\n",
              "    }\n",
              "\n",
              "    .dataframe tbody tr th {\n",
              "        vertical-align: top;\n",
              "    }\n",
              "\n",
              "    .dataframe thead th {\n",
              "        text-align: right;\n",
              "    }\n",
              "</style>\n",
              "<table border=\"1\" class=\"dataframe\">\n",
              "  <thead>\n",
              "    <tr style=\"text-align: right;\">\n",
              "      <th></th>\n",
              "      <th>Distance</th>\n",
              "      <th>Time</th>\n",
              "      <th>seconds</th>\n",
              "    </tr>\n",
              "    <tr>\n",
              "      <th>Date</th>\n",
              "      <th></th>\n",
              "      <th></th>\n",
              "      <th></th>\n",
              "    </tr>\n",
              "  </thead>\n",
              "  <tbody>\n",
              "    <tr>\n",
              "      <th>2015-08-02</th>\n",
              "      <td>1.70</td>\n",
              "      <td>NaN</td>\n",
              "      <td>NaN</td>\n",
              "    </tr>\n",
              "    <tr>\n",
              "      <th>2015-08-03</th>\n",
              "      <td>1.40</td>\n",
              "      <td>NaN</td>\n",
              "      <td>NaN</td>\n",
              "    </tr>\n",
              "    <tr>\n",
              "      <th>2015-08-04</th>\n",
              "      <td>2.10</td>\n",
              "      <td>NaN</td>\n",
              "      <td>NaN</td>\n",
              "    </tr>\n",
              "    <tr>\n",
              "      <th>2015-08-06</th>\n",
              "      <td>2.38</td>\n",
              "      <td>NaN</td>\n",
              "      <td>NaN</td>\n",
              "    </tr>\n",
              "    <tr>\n",
              "      <th>2015-08-07</th>\n",
              "      <td>2.30</td>\n",
              "      <td>NaN</td>\n",
              "      <td>NaN</td>\n",
              "    </tr>\n",
              "    <tr>\n",
              "      <th>2015-08-08</th>\n",
              "      <td>3.40</td>\n",
              "      <td>NaN</td>\n",
              "      <td>NaN</td>\n",
              "    </tr>\n",
              "    <tr>\n",
              "      <th>2015-08-09</th>\n",
              "      <td>2.50</td>\n",
              "      <td>NaN</td>\n",
              "      <td>NaN</td>\n",
              "    </tr>\n",
              "    <tr>\n",
              "      <th>2015-08-10</th>\n",
              "      <td>3.36</td>\n",
              "      <td>0:28:37</td>\n",
              "      <td>1717.0</td>\n",
              "    </tr>\n",
              "    <tr>\n",
              "      <th>2015-08-11</th>\n",
              "      <td>1.67</td>\n",
              "      <td>0:13:07</td>\n",
              "      <td>787.0</td>\n",
              "    </tr>\n",
              "    <tr>\n",
              "      <th>2015-08-12</th>\n",
              "      <td>1.42</td>\n",
              "      <td>0:10:35</td>\n",
              "      <td>635.0</td>\n",
              "    </tr>\n",
              "  </tbody>\n",
              "</table>\n",
              "</div>"
            ],
            "text/plain": [
              "            Distance     Time  seconds\n",
              "Date                                  \n",
              "2015-08-02      1.70      NaN      NaN\n",
              "2015-08-03      1.40      NaN      NaN\n",
              "2015-08-04      2.10      NaN      NaN\n",
              "2015-08-06      2.38      NaN      NaN\n",
              "2015-08-07      2.30      NaN      NaN\n",
              "2015-08-08      3.40      NaN      NaN\n",
              "2015-08-09      2.50      NaN      NaN\n",
              "2015-08-10      3.36  0:28:37   1717.0\n",
              "2015-08-11      1.67  0:13:07    787.0\n",
              "2015-08-12      1.42  0:10:35    635.0"
            ]
          },
          "metadata": {
            "tags": []
          },
          "execution_count": 30
        }
      ]
    }
  ]
}